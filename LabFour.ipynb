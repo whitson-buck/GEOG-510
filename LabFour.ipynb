{
 "cells": [
  {
   "cell_type": "markdown",
   "metadata": {
    "id": "beb550f5"
   },
   "source": [
    "# Lab 4\n",
    "\n",
    "[![image](https://colab.research.google.com/assets/colab-badge.svg)](https://colab.research.google.com/github/giswqs/geosdemo/blob/master/docs/labs/lab4.ipynb)\n",
    "\n",
    "## Submission instructions\n",
    "\n",
    "1. Download the notebook from https://geosdemo.gishub.org/labs/lab4\n",
    "2. Complete the lab questions\n",
    "3. Restart Kernel and Run All Cells\n",
    "4. Upload the notebook to your GitHub repository\n",
    "5. Make sure the notebook has an `Open In Colab` badge. Click on the badge to make sure your notebook can be opened in Colab.\n",
    "6. Submit the link to the notebook on your GitHub repository to Canvas"
   ]
  },
  {
   "cell_type": "code",
   "execution_count": 1,
   "metadata": {
    "id": "bfc1ddc5",
    "vscode": {
     "languageId": "python"
    }
   },
   "outputs": [
    {
     "name": "stdout",
     "output_type": "stream",
     "text": [
      "Submitted time: 2023-03-07 16:09:00.001683\n"
     ]
    }
   ],
   "source": [
    "from datetime import datetime\n",
    "\n",
    "now = datetime.now()\n",
    "print(f\"Submitted time: {now}\")"
   ]
  },
  {
   "cell_type": "markdown",
   "metadata": {
    "id": "7e96934a"
   },
   "source": [
    "## Question 1\n",
    "\n",
    "**Personal Message:** Use a variable to represent a person’s name, and print a message to that person. Your message should be simple, such as, “Hello Eric, would you like to learn some Python today?”"
   ]
  },
  {
   "cell_type": "code",
   "execution_count": 5,
   "metadata": {
    "id": "063a8cb4",
    "vscode": {
     "languageId": "python"
    }
   },
   "outputs": [
    {
     "name": "stdout",
     "output_type": "stream",
     "text": [
      "What is your name?whitson\n",
      "Hello whitson would you like to learn some Python today\n"
     ]
    }
   ],
   "source": [
    "s = input(\"What is your name?\")\n",
    "print(\"Hello\",s,\"would you like to learn some Python today?\")"
   ]
  },
  {
   "cell_type": "markdown",
   "metadata": {
    "id": "83c4c9e9"
   },
   "source": [
    "## Question 2\n",
    "\n",
    "**Name Cases:** Use a variable to represent a person’s name, and then print that person’s name in lowercase, uppercase, and title case."
   ]
  },
  {
   "cell_type": "code",
   "execution_count": 11,
   "metadata": {
    "id": "35cfbbec",
    "vscode": {
     "languageId": "python"
    }
   },
   "outputs": [
    {
     "name": "stdout",
     "output_type": "stream",
     "text": [
      "evan\n",
      "EVAN\n",
      "Evan\n"
     ]
    }
   ],
   "source": [
    "var = \"evan\"\n",
    "\n",
    "print(var.lower())\n",
    "\n",
    "print(var.upper())\n",
    "\n",
    "print(var.title())"
   ]
  },
  {
   "cell_type": "markdown",
   "metadata": {
    "id": "8c8e92e4"
   },
   "source": [
    "## Question 3\n",
    "\n",
    "**Famous Quote:** Find a quote from a famous person you admire. Print the quote and the name of its author. Your output should look something like the following, including the quotation marks:\n",
    "\n",
    "```\n",
    "Albert Einstein once said, “A person who never made a mistake never tried anything new.”\n",
    "```"
   ]
  },
  {
   "cell_type": "code",
   "execution_count": 16,
   "metadata": {
    "id": "3bed6cb5",
    "vscode": {
     "languageId": "python"
    }
   },
   "outputs": [
    {
     "name": "stdout",
     "output_type": "stream",
     "text": [
      "Frank Zappa once said, 'so many books, so little time'\n"
     ]
    }
   ],
   "source": [
    "print(\"Frank Zappa once said, 'so many books, so little time'\")"
   ]
  },
  {
   "cell_type": "markdown",
   "metadata": {
    "id": "4b46d366"
   },
   "source": [
    "## Question 4\n",
    "\n",
    "**Stripping Names:** Use a variable to represent a person’s name, and include some whitespace characters at the beginning and end of the name. Make sure you use each character combination, \"\\t\" and \"\\n\", at least once.\n",
    "Print the name once, so the whitespace around the name is displayed. Then print the name using each of the three stripping functions, lstrip(), rstrip(), and strip()."
   ]
  },
  {
   "cell_type": "code",
   "execution_count": 26,
   "metadata": {
    "id": "bb5dbb0f",
    "vscode": {
     "languageId": "python"
    }
   },
   "outputs": [
    {
     "name": "stdout",
     "output_type": "stream",
     "text": [
      " \n",
      "lewie \n",
      "\t\n",
      "lewie \n",
      "\t\n",
      " \n",
      "lewie\n",
      "lewie\n"
     ]
    }
   ],
   "source": [
    "v = \" \\nlewie \\n\\t\"\n",
    "\n",
    "print(v)\n",
    "print(v.lstrip())\n",
    "print(v.rstrip())\n",
    "print(v.strip())"
   ]
  },
  {
   "cell_type": "markdown",
   "metadata": {
    "id": "32cce0d9"
   },
   "source": [
    "## Question 5\n",
    "\n",
    "**Names:** Store the names of a few of your friends in a list called names. Print\n",
    "each person’s name by accessing each element in the list, one at a time."
   ]
  },
  {
   "cell_type": "code",
   "execution_count": 28,
   "metadata": {
    "id": "13da6459",
    "vscode": {
     "languageId": "python"
    }
   },
   "outputs": [
    {
     "name": "stdout",
     "output_type": "stream",
     "text": [
      "James\n",
      "Nora\n",
      "Bob\n"
     ]
    }
   ],
   "source": [
    "friends = [\"James\",\"Nora\",\"Bob\"]\n",
    "\n",
    "print(friends[0])\n",
    "print(friends[1])\n",
    "print(friends[2])"
   ]
  },
  {
   "cell_type": "markdown",
   "metadata": {
    "id": "aaaa5c8f"
   },
   "source": [
    "## Question 6\n",
    "\n",
    "**Your Own List:** Think of your favorite mode of transportation, such as a motorcycle or a car, and make a list that stores several examples. Use your list to print a series of statements about these items, such as “I would like to own a Honda motorcycle.”"
   ]
  },
  {
   "cell_type": "code",
   "execution_count": 30,
   "metadata": {
    "id": "eba0829e",
    "vscode": {
     "languageId": "python"
    }
   },
   "outputs": [
    {
     "name": "stdout",
     "output_type": "stream",
     "text": [
      "I would like to own a motorcycle a moped and a camel\n"
     ]
    }
   ],
   "source": [
    "lists = [\"motorcycle\",\"moped\",\"bike\",\"camel\"]\n",
    "\n",
    "print(\"I would like to own a\",lists[0],\"a\",lists[1],\"and a\",lists[3])"
   ]
  },
  {
   "cell_type": "markdown",
   "metadata": {
    "id": "e4b4452f"
   },
   "source": [
    "## Question 7\n",
    "\n",
    "**Pizzas:** Think of at least three kinds of your favorite pizza. Store these pizza names in a list, and then use a for loop to print the name of each pizza.\n",
    "\n",
    "Modify your for loop to print a sentence using the name of the pizza instead of printing just the name of the pizza. For each pizza you should have one line of output containing a simple statement like _I like pepperoni pizza._"
   ]
  },
  {
   "cell_type": "code",
   "execution_count": 33,
   "metadata": {
    "id": "37cdb68e",
    "vscode": {
     "languageId": "python"
    }
   },
   "outputs": [
    {
     "name": "stdout",
     "output_type": "stream",
     "text": [
      "I like Cheese\n",
      "I like More cheese\n",
      "I like Most cheese\n"
     ]
    }
   ],
   "source": [
    "pizza = [\"Cheese\",\"More cheese\",\"Most cheese\"]\n",
    "\n",
    "for i in range(len(pizza)):\n",
    "    print(\"I like\",pizza[i])"
   ]
  },
  {
   "cell_type": "markdown",
   "metadata": {
    "id": "b3b70e8e"
   },
   "source": [
    "Add a line at the end of your program, outside the for loop, that states how much you like pizza. The output should consist of three or more lines about the kinds of pizza you like and then an additional sentence, such as _I really love pizza!_"
   ]
  },
  {
   "cell_type": "code",
   "execution_count": 38,
   "metadata": {
    "id": "11b4528c",
    "vscode": {
     "languageId": "python"
    }
   },
   "outputs": [
    {
     "name": "stdout",
     "output_type": "stream",
     "text": [
      "I like Cheese\n",
      "I like More cheese\n",
      "I like Most cheese\n",
      "I like mushrooms and lasagna and anchovies I really love pizza!\n"
     ]
    }
   ],
   "source": [
    "pizza = [\"Cheese\",\"More cheese\",\"Most cheese\",\"mushrooms\",\"lasagna\",\"anchovies\"]\n",
    "\n",
    "for i in range(3):\n",
    "    print(\"I like\",pizza[i])\n",
    "    \n",
    "print(\"I like\",pizza[3],\"and\",pizza[4],\"and\",pizza[5],\"I really love pizza!\")"
   ]
  },
  {
   "cell_type": "markdown",
   "metadata": {
    "id": "6e42f992"
   },
   "source": [
    "## Question 8\n",
    "\n",
    "**Animals:** Think of at least three different animals that have a common characteristic. Store the names of these animals in a list, and then use a for loop to print out the name of each animal.\n",
    "\n",
    "Modify your program to print a statement about each animal, such as _A dog would make a great pet._"
   ]
  },
  {
   "cell_type": "code",
   "execution_count": 47,
   "metadata": {
    "id": "7489fb55",
    "vscode": {
     "languageId": "python"
    }
   },
   "outputs": [
    {
     "name": "stdout",
     "output_type": "stream",
     "text": [
      "A frog would make a great pet\n",
      "A lizard would crawl away if you're not careful\n",
      "No snakes!\n"
     ]
    }
   ],
   "source": [
    "dogs = [\"Frogs\",\"Lizards\",\"Snakes\"]\n",
    "\n",
    "for i in range(len(dogs)):\n",
    "    if i == 0:\n",
    "        print(\"A frog would make a great pet\")\n",
    "    elif i == 1:\n",
    "        print(\"A lizard would crawl away if you're not careful\")\n",
    "    else:\n",
    "        print(\"No snakes!\")"
   ]
  },
  {
   "cell_type": "markdown",
   "metadata": {
    "id": "b4484392"
   },
   "source": [
    "Add a line at the end of your program stating what these animals have in common. You could print a sentence such as _Any of these animals would make a great pet!_"
   ]
  },
  {
   "cell_type": "code",
   "execution_count": 48,
   "metadata": {
    "id": "eb9f8e19",
    "vscode": {
     "languageId": "python"
    }
   },
   "outputs": [
    {
     "name": "stdout",
     "output_type": "stream",
     "text": [
      "A frog would make a great pet\n",
      "A lizard would crawl away if you're not careful\n",
      "No snakes!\n",
      "All these animals are slimy.\n"
     ]
    }
   ],
   "source": [
    "dogs = [\"Frogs\",\"Lizards\",\"Snakes\"]\n",
    "\n",
    "for i in range(len(dogs)):\n",
    "    if i == 0:\n",
    "        print(\"A frog would make a great pet\")\n",
    "    elif i == 1:\n",
    "        print(\"A lizard would crawl away if you're not careful\")\n",
    "    else:\n",
    "        print(\"No snakes!\")\n",
    "        \n",
    "print(\"All these animals are slimy.\")"
   ]
  },
  {
   "cell_type": "markdown",
   "metadata": {
    "id": "ba99ccb5"
   },
   "source": [
    "## Question 9\n",
    "\n",
    "**Summing a Hundred:** Make a list of the numbers from one to one hundred, and then use `min()` and `max()` to make sure your list actually starts at one and ends at one hundred. Also, use the sum() function to see how quickly Python can add a hundred numbers."
   ]
  },
  {
   "cell_type": "code",
   "execution_count": 59,
   "metadata": {
    "id": "6c6a27a9",
    "vscode": {
     "languageId": "python"
    }
   },
   "outputs": [
    {
     "name": "stdout",
     "output_type": "stream",
     "text": [
      "1\n",
      "100\n",
      "5050\n"
     ]
    }
   ],
   "source": [
    "m = range(1,101)\n",
    "\n",
    "print(min(m))\n",
    "print(max(m))\n",
    "print(sum(m))"
   ]
  },
  {
   "cell_type": "markdown",
   "metadata": {
    "id": "d165cd3c"
   },
   "source": [
    "## Question 10\n",
    "\n",
    "**Odd Numbers:** Use the third argument of the `range()` function to make a list of the odd numbers from 1 to 20. Use a `for` loop to print each number."
   ]
  },
  {
   "cell_type": "code",
   "execution_count": 66,
   "metadata": {
    "id": "d276920a",
    "vscode": {
     "languageId": "python"
    }
   },
   "outputs": [
    {
     "name": "stdout",
     "output_type": "stream",
     "text": [
      "1\n",
      "3\n",
      "5\n",
      "7\n",
      "9\n",
      "11\n",
      "13\n",
      "15\n",
      "17\n",
      "19\n"
     ]
    }
   ],
   "source": [
    "a = list(range(1,21,2))\n",
    "\n",
    "for i in range(len(a)):\n",
    "    print(a[i])"
   ]
  },
  {
   "cell_type": "markdown",
   "metadata": {
    "id": "9e49d9eb"
   },
   "source": [
    "## Question 11\n",
    "\n",
    "**Threes:** Make a list of the multiples of 3 from 3 to 30. Use a `for` loop to print the numbers in your list."
   ]
  },
  {
   "cell_type": "code",
   "execution_count": 67,
   "metadata": {
    "id": "4ff24fc6",
    "vscode": {
     "languageId": "python"
    }
   },
   "outputs": [
    {
     "name": "stdout",
     "output_type": "stream",
     "text": [
      "3\n",
      "6\n",
      "9\n",
      "12\n",
      "15\n",
      "18\n",
      "21\n",
      "24\n",
      "27\n",
      "30\n"
     ]
    }
   ],
   "source": [
    "a = list(range(3,31,3))\n",
    "\n",
    "for i in range(len(a)):\n",
    "    print(a[i])"
   ]
  },
  {
   "cell_type": "markdown",
   "metadata": {
    "id": "dbcce457"
   },
   "source": [
    "## Question 12\n",
    "\n",
    "**Cube Comprehension:** Use a list comprehension to generate a list of the first 10 cubes."
   ]
  },
  {
   "cell_type": "code",
   "execution_count": 2,
   "metadata": {
    "id": "df0901f8",
    "vscode": {
     "languageId": "python"
    }
   },
   "outputs": [
    {
     "name": "stdout",
     "output_type": "stream",
     "text": [
      "[1, 8, 27, 64, 125, 216, 343, 512, 729, 1000]\n"
     ]
    }
   ],
   "source": [
    "cubes = [1,2,3,4,5,6,7,8,9,10]\n",
    "\n",
    "newcubes = [x**3 for x in cubes]\n",
    "\n",
    "print(newcubes)"
   ]
  },
  {
   "cell_type": "markdown",
   "metadata": {
    "id": "c6946e7b"
   },
   "source": [
    "## Question 13\n",
    "\n",
    "**Slices:** Using one of the programs you wrote in this lab, add several lines to the end of the program that do the following:\n",
    "\n",
    "Print the message _The first three items in the list are:_. Then use a slice to print the first three items from that program’s list."
   ]
  },
  {
   "cell_type": "code",
   "execution_count": 6,
   "metadata": {
    "id": "0e03e488",
    "vscode": {
     "languageId": "python"
    }
   },
   "outputs": [
    {
     "name": "stdout",
     "output_type": "stream",
     "text": [
      "The first three items are: [1, 2, 3]\n"
     ]
    }
   ],
   "source": [
    "print(\"The first three items are:\",cubes[0:3])"
   ]
  },
  {
   "cell_type": "markdown",
   "metadata": {
    "id": "6f88722c"
   },
   "source": [
    "Print the message _Three items from the middle of the list are:_. Use a slice to print three items from the middle of the list."
   ]
  },
  {
   "cell_type": "code",
   "execution_count": 8,
   "metadata": {
    "id": "6859a061",
    "vscode": {
     "languageId": "python"
    }
   },
   "outputs": [
    {
     "name": "stdout",
     "output_type": "stream",
     "text": [
      "Three items from the middle of the list are: [4, 5, 6]\n"
     ]
    }
   ],
   "source": [
    "print(\"Three items from the middle of the list are:\",cubes[3:6])"
   ]
  },
  {
   "cell_type": "markdown",
   "metadata": {
    "id": "0abc8cec"
   },
   "source": [
    "Print the message _The last three items in the list are:_. Use a slice to print the last three items in the list."
   ]
  },
  {
   "cell_type": "code",
   "execution_count": 10,
   "metadata": {
    "id": "64988cac",
    "scrolled": true,
    "vscode": {
     "languageId": "python"
    }
   },
   "outputs": [
    {
     "name": "stdout",
     "output_type": "stream",
     "text": [
      "The last three items in the list are: [8, 9, 10]\n"
     ]
    }
   ],
   "source": [
    "print(\"The last three items in the list are:\",cubes[-3::])"
   ]
  },
  {
   "cell_type": "markdown",
   "metadata": {
    "id": "36876b9d"
   },
   "source": [
    "## Question 14\n",
    "\n",
    "**Buffet:** A buffet-style restaurant offers only five basic foods. Think of five simple foods, and store them in a tuple.\n",
    "\n",
    "Use a for loop to print each food the restaurant offers."
   ]
  },
  {
   "cell_type": "code",
   "execution_count": 13,
   "metadata": {
    "id": "6f186d8a",
    "vscode": {
     "languageId": "python"
    }
   },
   "outputs": [
    {
     "name": "stdout",
     "output_type": "stream",
     "text": [
      "Apples\n",
      "Bananas\n",
      "Pasta\n",
      "Tiramisu\n",
      "Pizza\n"
     ]
    }
   ],
   "source": [
    "food = (\"Apples\",\"Bananas\",\"Pasta\",\"Tiramisu\",\"Pizza\")\n",
    "\n",
    "for i in range(len(food)):\n",
    "    print(food[i])"
   ]
  },
  {
   "cell_type": "markdown",
   "metadata": {
    "id": "0a6ba7f3"
   },
   "source": [
    "The restaurant changes its menu, replacing two of the items with different foods. Add a line that rewrites the tuple, and then use a for loop to print each of the items on the revised menu."
   ]
  },
  {
   "cell_type": "code",
   "execution_count": 19,
   "metadata": {
    "id": "79b11cbc",
    "vscode": {
     "languageId": "python"
    }
   },
   "outputs": [
    {
     "name": "stdout",
     "output_type": "stream",
     "text": [
      "Pineapple\n",
      "Grapes\n",
      "Bananas\n",
      "Pasta\n",
      "Tiramisu\n"
     ]
    }
   ],
   "source": [
    "lst = list(food)\n",
    "lst[0:1] = [\"Pineapple\",\"Grapes\"]\n",
    "\n",
    "for i in range(len(food)):\n",
    "    print(lst[i])"
   ]
  },
  {
   "cell_type": "markdown",
   "metadata": {
    "id": "337ac27d"
   },
   "source": [
    "## Question 15\n",
    "\n",
    "**Alien Colors:** Imagine an alien was just shot down in a game. Create a variable called `alien_color` and assign it a value of `green, yellow,` or `red`.\n",
    "\n",
    "-   Write an if statement to test whether the alien’s color is green. If it is, print a message that the player just earned 5 points.\n",
    "-   Write one version of this program that passes the if test and another that fails. (The version that fails will have no output.)"
   ]
  },
  {
   "cell_type": "code",
   "execution_count": 29,
   "metadata": {
    "id": "cc3198fa",
    "vscode": {
     "languageId": "python"
    }
   },
   "outputs": [
    {
     "name": "stdout",
     "output_type": "stream",
     "text": [
      "You earned 5 points.\n"
     ]
    }
   ],
   "source": [
    "alien_color = \"red\"\n",
    "\n",
    "if alien_color != \"green\":\n",
    "    a=1\n",
    "else:\n",
    "    print(\"You earned 5 points.\")\n",
    "    \n",
    "if alien_color == \"red\":\n",
    "    print(\"You earned 5 points.\")\n",
    "else:\n",
    "    print(\"No points.\")"
   ]
  },
  {
   "cell_type": "markdown",
   "metadata": {
    "id": "57465bab"
   },
   "source": [
    "## Question 16\n",
    "\n",
    "**Stages of Life:** Write an `if-elif-else` chain that determines a person’s stage of life. Set a value for the variable `age`, and then:\n",
    "\n",
    "-   If the person is less than 2 years old, print a message that the person is a baby.\n",
    "-   If the person is at least 2 years old but less than 4, print a message that the person is a toddler.\n",
    "-   If the person is at least 4 years old but less than 13, print a message that the person is a kid.\n",
    "-   If the person is at least 13 years old but less than 20, print a message that the person is a teenager.\n",
    "-   If the person is at least 20 years old but less than 65, print a message that the person is an adult."
   ]
  },
  {
   "cell_type": "code",
   "execution_count": 38,
   "metadata": {
    "id": "b09c364a",
    "vscode": {
     "languageId": "python"
    }
   },
   "outputs": [
    {
     "name": "stdout",
     "output_type": "stream",
     "text": [
      "You're a teenager...\n"
     ]
    }
   ],
   "source": [
    "age=18\n",
    "\n",
    "if age < 2:\n",
    "    print(\"You're a baby!\")\n",
    "elif (age >=2) & (age < 4):\n",
    "    print(\"You're a toddler.\")\n",
    "elif (age >= 4) & (age < 13):\n",
    "    print(\"You're a kid.\")\n",
    "elif (age >= 13) & (age < 20):\n",
    "    print(\"You're a teenager...\")\n",
    "elif (age >= 20) & (age <20):\n",
    "    print(\"You're an adult!\")"
   ]
  },
  {
   "cell_type": "markdown",
   "metadata": {
    "id": "96b3da06"
   },
   "source": [
    "## Question 17\n",
    "\n",
    "**Favorite Fruit:** Make a list of your favorite fruits, and then write a series of independent `if` statements that check for certain fruits in your list.\n",
    "\n",
    "-   Make a list of your three favorite fruits and call it favorite_fruits.\n",
    "-   Write five if statements. Each should check whether a certain kind of fruit is in your list. If the fruit is in your list, the if block should print a statement, such as You really like bananas!"
   ]
  },
  {
   "cell_type": "code",
   "execution_count": 56,
   "metadata": {
    "id": "fc58635c",
    "vscode": {
     "languageId": "python"
    }
   },
   "outputs": [
    {
     "name": "stdout",
     "output_type": "stream",
     "text": [
      "You really like Bananas\n",
      "You really like Pineapples\n",
      "You really like Apples\n"
     ]
    }
   ],
   "source": [
    "favorite_fruits = [\"Bananas\",\"Pineapples\",\"Apples\"]\n",
    "\n",
    "if \"Bananas\" in favorite_fruits:\n",
    "    print(\"You really like\",favorite_fruits[favorite_fruits.index(\"Bananas\")])\n",
    "if \"Acai\" in favorite_fruits:\n",
    "    print(\"You really like\",favorite_fruits[favorite_fruits.index(\"Acai\")])\n",
    "if \"Elderberry\" in favorite_fruits:\n",
    "    print(\"You really like\",favorite_fruits[favorite_fruits.index(\"Elderberry\")])\n",
    "if \"Pineapples\" in favorite_fruits:\n",
    "    print(\"You really like\",favorite_fruits[favorite_fruits.index(\"Pineapples\")])\n",
    "if \"Apples\" in favorite_fruits:\n",
    "    print(\"You really like\",favorite_fruits[favorite_fruits.index(\"Apples\")])"
   ]
  },
  {
   "cell_type": "markdown",
   "metadata": {
    "id": "71e4c6f1"
   },
   "source": [
    "## Question 18\n",
    "\n",
    "**Hello Admin:** Make a list of five or more usernames, including the name `admin`. Imagine you are writing code that will print a greeting to each user after they log in to a website. Loop through the list, and print a greeting to each user:\n",
    "\n",
    "-   If the username is 'admin', print a special greeting, such as _Hello admin, would you like to see a status report?_\n",
    "-   Otherwise, print a generic greeting, such as _Hello Jaden, thank you for logging in again_."
   ]
  },
  {
   "cell_type": "code",
   "execution_count": 58,
   "metadata": {
    "id": "651e8bf2",
    "vscode": {
     "languageId": "python"
    }
   },
   "outputs": [
    {
     "name": "stdout",
     "output_type": "stream",
     "text": [
      "Hello Berryxx5 thanks for logging in.\n",
      "Hello Lovamane thanks for logging in.\n",
      "Hello ninjamas thanks for logging in.\n",
      "Hello Yellomybaby thanks for logging in.\n",
      "Hello Cubsfan45 thanks for logging in.\n",
      "Hello admin, would you like to see a status report?\n"
     ]
    }
   ],
   "source": [
    "usernames = [\"Berryxx5\",\"Lovamane\",\"ninjamas\",\"Yellomybaby\",\"Cubsfan45\",\"admin\"]\n",
    "\n",
    "for i in range(len(usernames)):\n",
    "    if \"admin\" in usernames[i]:\n",
    "        print(\"Hello admin, would you like to see a status report?\")\n",
    "    else:\n",
    "        print(\"Hello\",usernames[i],\"thanks for logging in.\")"
   ]
  },
  {
   "cell_type": "markdown",
   "metadata": {
    "id": "fd53a583"
   },
   "source": [
    "## Question 19\n",
    "\n",
    "**Checking Usernames:** Do the following to create a program that simulates how websites ensure that everyone has a unique username.\n",
    "\n",
    "-   Make a list of five or more usernames called `current_users`.\n",
    "-   Make another list of five usernames called `new_users`. Make sure one or two of the new usernames are also in the `current_users` list.\n",
    "-   Loop through the `new_users` list to see if each new username has already been used. If it has, print a message that the person will need to enter a new username. If a username has not been used, print a message saying that the username is available.\n",
    "-   Make sure your comparison is case insensitive. If 'John' has been used, 'JOHN' should not be accepted. (To do this, you’ll need to make a copy of `current_users` containing the lowercase versions of all existing users.)"
   ]
  },
  {
   "cell_type": "code",
   "execution_count": 67,
   "metadata": {
    "id": "9f1a4a8d",
    "vscode": {
     "languageId": "python"
    }
   },
   "outputs": [
    {
     "name": "stdout",
     "output_type": "stream",
     "text": [
      "Hello Randman244 thanks for logging in.\n",
      "Hello Absolutefan thanks for logging in.\n",
      "Hello firstuserhere thanks for logging in.\n",
      "Hello nevertrustamannameddan thanks for logging in.\n",
      "Username taken. Please enter new username.\n"
     ]
    }
   ],
   "source": [
    "current_users = [\"Gahhlah\",\"Messhaluh\",\"Suggs_34\",\"Zeenorhfirst\",\"Fhroibian\"]\n",
    "\n",
    "new_users = [\"Randman244\",\"Absolutefan\",\"firstuserhere\",\"nevertrustamannameddan\",\"Fhroibian\"]\n",
    "\n",
    "for i in range(len(new_users)):\n",
    "    new_users_lower = list(map(lambda x: x.lower(), [\"Randman244\",\"Absolutefan\",\"firstuserhere\",\"nevertrustamannameddan\",\"Fhroibian\"]))\n",
    "    current_users_lower = list(map(lambda x: x.lower(), [\"Gahhlah\",\"Messhaluh\",\"Suggs_34\",\"Zeenorhfirst\",\"Fhroibian\"]))\n",
    "    if new_users_lower[i] in current_users_lower:\n",
    "        print(\"Username taken. Please enter new username.\")\n",
    "    else:\n",
    "        print(\"Hello\",new_users[i],\"thanks for logging in.\")"
   ]
  },
  {
   "cell_type": "markdown",
   "metadata": {
    "id": "20f8412b"
   },
   "source": [
    "## Question 20\n",
    "\n",
    "**Ordinal Numbers:** Ordinal numbers indicate their position in a list, such as _1st_ or _2nd_. Most ordinal numbers end in _th_, except 1, 2, and 3.\n",
    "\n",
    "-   Store the numbers 1 through 9 in a list.\n",
    "-   Loop through the list.\n",
    "-   Use an `if-elif-else` chain inside the loop to print the proper ordinal ending for each number. Your output should read \"1st 2nd 3rd 4th 5th 6th 7th 8th 9th\", and each result should be on a separate line."
   ]
  },
  {
   "cell_type": "code",
   "execution_count": 69,
   "metadata": {
    "id": "6231e1e4",
    "vscode": {
     "languageId": "python"
    }
   },
   "outputs": [
    {
     "name": "stdout",
     "output_type": "stream",
     "text": [
      "1st\n",
      "2nd\n",
      "3rd\n",
      "4th\n",
      "5th\n",
      "6th\n",
      "7th\n",
      "8th\n",
      "9th\n"
     ]
    }
   ],
   "source": [
    "numbers = [1,2,3,4,5,6,7,8,9]\n",
    "\n",
    "for i in range(len(numbers)):\n",
    "    if numbers[i] == numbers[numbers.index(1)]:\n",
    "        print(\"1st\")\n",
    "    elif numbers[i] == numbers[numbers.index(2)]:\n",
    "        print(\"2nd\")\n",
    "    elif numbers[i] == numbers[numbers.index(3)]:\n",
    "        print(\"3rd\")\n",
    "    elif numbers[i] == numbers[numbers.index(4)]:\n",
    "        print(\"4th\")\n",
    "    elif numbers[i] == numbers[numbers.index(5)]:\n",
    "        print(\"5th\")\n",
    "    elif numbers[i] == numbers[numbers.index(6)]:\n",
    "        print(\"6th\")\n",
    "    elif numbers[i] == numbers[numbers.index(7)]:\n",
    "        print(\"7th\")\n",
    "    elif numbers[i] == numbers[numbers.index(8)]:\n",
    "        print(\"8th\")\n",
    "    elif numbers[i] == numbers[numbers.index(9)]:\n",
    "        print(\"9th\")"
   ]
  }
 ],
 "metadata": {
  "colab": {
   "provenance": []
  },
  "kernelspec": {
   "display_name": "Python 3",
   "language": "python",
   "name": "python3"
  },
  "language_info": {
   "codemirror_mode": {
    "name": "ipython",
    "version": 3
   },
   "file_extension": ".py",
   "mimetype": "text/x-python",
   "name": "python",
   "nbconvert_exporter": "python",
   "pygments_lexer": "ipython3",
   "version": "3.7.6"
  }
 },
 "nbformat": 4,
 "nbformat_minor": 5
}
