{
  "cells": [
    {
      "cell_type": "markdown",
      "metadata": {
        "id": "beb550f5"
      },
      "source": [
        "# Lab 4 for GEOG 510\n",
        "\n",
        "[![image](https://colab.research.google.com/assets/colab-badge.svg)](https://colab.research.google.com/drive/1NFPGH4h8HSpCdHfclm5pud1lNmMbzKko)"
      ],
      "id": "beb550f5"
    },
    {
      "cell_type": "code",
      "execution_count": null,
      "metadata": {
        "id": "bfc1ddc5",
        "vscode": {
          "languageId": "python"
        },
        "outputId": "6717189b-5067-4c05-8ff6-e6684090784e"
      },
      "outputs": [
        {
          "name": "stdout",
          "output_type": "stream",
          "text": [
            "Submitted time: 2023-03-07 16:09:00.001683\n"
          ]
        }
      ],
      "source": [
        "from datetime import datetime\n",
        "\n",
        "now = datetime.now()\n",
        "print(f\"Submitted time: {now}\")"
      ],
      "id": "bfc1ddc5"
    },
    {
      "cell_type": "markdown",
      "metadata": {
        "id": "7e96934a"
      },
      "source": [
        "## Question 1\n",
        "\n",
        "**Personal Message:** Use a variable to represent a person’s name, and print a message to that person. Your message should be simple, such as, “Hello Eric, would you like to learn some Python today?”"
      ],
      "id": "7e96934a"
    },
    {
      "cell_type": "code",
      "execution_count": null,
      "metadata": {
        "id": "063a8cb4",
        "vscode": {
          "languageId": "python"
        },
        "outputId": "f39165fe-b401-408f-f717-54cb987a1bbe"
      },
      "outputs": [
        {
          "name": "stdout",
          "output_type": "stream",
          "text": [
            "What is your name?whitson\n",
            "Hello whitson would you like to learn some Python today\n"
          ]
        }
      ],
      "source": [
        "s = input(\"What is your name?\")\n",
        "print(\"Hello\",s,\"would you like to learn some Python today?\")"
      ],
      "id": "063a8cb4"
    },
    {
      "cell_type": "markdown",
      "metadata": {
        "id": "83c4c9e9"
      },
      "source": [
        "## Question 2\n",
        "\n",
        "**Name Cases:** Use a variable to represent a person’s name, and then print that person’s name in lowercase, uppercase, and title case."
      ],
      "id": "83c4c9e9"
    },
    {
      "cell_type": "code",
      "execution_count": null,
      "metadata": {
        "id": "35cfbbec",
        "vscode": {
          "languageId": "python"
        },
        "outputId": "feb79537-5682-4897-b048-4d4a375fd6cd"
      },
      "outputs": [
        {
          "name": "stdout",
          "output_type": "stream",
          "text": [
            "evan\n",
            "EVAN\n",
            "Evan\n"
          ]
        }
      ],
      "source": [
        "var = \"evan\"\n",
        "\n",
        "print(var.lower())\n",
        "\n",
        "print(var.upper())\n",
        "\n",
        "print(var.title())"
      ],
      "id": "35cfbbec"
    },
    {
      "cell_type": "markdown",
      "metadata": {
        "id": "8c8e92e4"
      },
      "source": [
        "## Question 3\n",
        "\n",
        "**Famous Quote:** Find a quote from a famous person you admire. Print the quote and the name of its author. Your output should look something like the following, including the quotation marks:\n",
        "\n",
        "```\n",
        "Albert Einstein once said, “A person who never made a mistake never tried anything new.”\n",
        "```"
      ],
      "id": "8c8e92e4"
    },
    {
      "cell_type": "code",
      "execution_count": null,
      "metadata": {
        "id": "3bed6cb5",
        "vscode": {
          "languageId": "python"
        },
        "outputId": "2d651409-8bfa-4d8a-9c32-da5b7fa3b252"
      },
      "outputs": [
        {
          "name": "stdout",
          "output_type": "stream",
          "text": [
            "Frank Zappa once said, 'so many books, so little time'\n"
          ]
        }
      ],
      "source": [
        "print(\"Frank Zappa once said, 'so many books, so little time'\")"
      ],
      "id": "3bed6cb5"
    },
    {
      "cell_type": "markdown",
      "metadata": {
        "id": "4b46d366"
      },
      "source": [
        "## Question 4\n",
        "\n",
        "**Stripping Names:** Use a variable to represent a person’s name, and include some whitespace characters at the beginning and end of the name. Make sure you use each character combination, \"\\t\" and \"\\n\", at least once.\n",
        "Print the name once, so the whitespace around the name is displayed. Then print the name using each of the three stripping functions, lstrip(), rstrip(), and strip()."
      ],
      "id": "4b46d366"
    },
    {
      "cell_type": "code",
      "execution_count": null,
      "metadata": {
        "id": "bb5dbb0f",
        "vscode": {
          "languageId": "python"
        },
        "outputId": "b0f1c8c0-1866-48e5-cfb3-85fe28142c27"
      },
      "outputs": [
        {
          "name": "stdout",
          "output_type": "stream",
          "text": [
            " \n",
            "lewie \n",
            "\t\n",
            "lewie \n",
            "\t\n",
            " \n",
            "lewie\n",
            "lewie\n"
          ]
        }
      ],
      "source": [
        "v = \" \\nlewie \\n\\t\"\n",
        "\n",
        "print(v)\n",
        "print(v.lstrip())\n",
        "print(v.rstrip())\n",
        "print(v.strip())"
      ],
      "id": "bb5dbb0f"
    },
    {
      "cell_type": "markdown",
      "metadata": {
        "id": "32cce0d9"
      },
      "source": [
        "## Question 5\n",
        "\n",
        "**Names:** Store the names of a few of your friends in a list called names. Print\n",
        "each person’s name by accessing each element in the list, one at a time."
      ],
      "id": "32cce0d9"
    },
    {
      "cell_type": "code",
      "execution_count": null,
      "metadata": {
        "id": "13da6459",
        "vscode": {
          "languageId": "python"
        },
        "outputId": "2ea7c995-fb34-446a-99f8-c82deb9922fd"
      },
      "outputs": [
        {
          "name": "stdout",
          "output_type": "stream",
          "text": [
            "James\n",
            "Nora\n",
            "Bob\n"
          ]
        }
      ],
      "source": [
        "friends = [\"James\",\"Nora\",\"Bob\"]\n",
        "\n",
        "print(friends[0])\n",
        "print(friends[1])\n",
        "print(friends[2])"
      ],
      "id": "13da6459"
    },
    {
      "cell_type": "markdown",
      "metadata": {
        "id": "aaaa5c8f"
      },
      "source": [
        "## Question 6\n",
        "\n",
        "**Your Own List:** Think of your favorite mode of transportation, such as a motorcycle or a car, and make a list that stores several examples. Use your list to print a series of statements about these items, such as “I would like to own a Honda motorcycle.”"
      ],
      "id": "aaaa5c8f"
    },
    {
      "cell_type": "code",
      "execution_count": null,
      "metadata": {
        "id": "eba0829e",
        "vscode": {
          "languageId": "python"
        },
        "outputId": "3226d78f-3626-4fdc-818f-20108fe2f894"
      },
      "outputs": [
        {
          "name": "stdout",
          "output_type": "stream",
          "text": [
            "I would like to own a motorcycle a moped and a camel\n"
          ]
        }
      ],
      "source": [
        "lists = [\"motorcycle\",\"moped\",\"bike\",\"camel\"]\n",
        "\n",
        "print(\"I would like to own a\",lists[0],\"a\",lists[1],\"and a\",lists[3])"
      ],
      "id": "eba0829e"
    },
    {
      "cell_type": "markdown",
      "metadata": {
        "id": "e4b4452f"
      },
      "source": [
        "## Question 7\n",
        "\n",
        "**Pizzas:** Think of at least three kinds of your favorite pizza. Store these pizza names in a list, and then use a for loop to print the name of each pizza.\n",
        "\n",
        "Modify your for loop to print a sentence using the name of the pizza instead of printing just the name of the pizza. For each pizza you should have one line of output containing a simple statement like _I like pepperoni pizza._"
      ],
      "id": "e4b4452f"
    },
    {
      "cell_type": "code",
      "execution_count": null,
      "metadata": {
        "id": "37cdb68e",
        "vscode": {
          "languageId": "python"
        },
        "outputId": "9606e2ff-73f6-4cc8-c47a-3536546c002a"
      },
      "outputs": [
        {
          "name": "stdout",
          "output_type": "stream",
          "text": [
            "I like Cheese\n",
            "I like More cheese\n",
            "I like Most cheese\n"
          ]
        }
      ],
      "source": [
        "pizza = [\"Cheese\",\"More cheese\",\"Most cheese\"]\n",
        "\n",
        "for i in range(len(pizza)):\n",
        "    print(\"I like\",pizza[i])"
      ],
      "id": "37cdb68e"
    },
    {
      "cell_type": "markdown",
      "metadata": {
        "id": "b3b70e8e"
      },
      "source": [
        "Add a line at the end of your program, outside the for loop, that states how much you like pizza. The output should consist of three or more lines about the kinds of pizza you like and then an additional sentence, such as _I really love pizza!_"
      ],
      "id": "b3b70e8e"
    },
    {
      "cell_type": "code",
      "execution_count": null,
      "metadata": {
        "id": "11b4528c",
        "vscode": {
          "languageId": "python"
        },
        "outputId": "52e1128f-6899-4e64-8342-64a9a96e4179"
      },
      "outputs": [
        {
          "name": "stdout",
          "output_type": "stream",
          "text": [
            "I like Cheese\n",
            "I like More cheese\n",
            "I like Most cheese\n",
            "I like mushrooms and lasagna and anchovies I really love pizza!\n"
          ]
        }
      ],
      "source": [
        "pizza = [\"Cheese\",\"More cheese\",\"Most cheese\",\"mushrooms\",\"lasagna\",\"anchovies\"]\n",
        "\n",
        "for i in range(3):\n",
        "    print(\"I like\",pizza[i])\n",
        "    \n",
        "print(\"I like\",pizza[3],\"and\",pizza[4],\"and\",pizza[5],\"I really love pizza!\")"
      ],
      "id": "11b4528c"
    },
    {
      "cell_type": "markdown",
      "metadata": {
        "id": "6e42f992"
      },
      "source": [
        "## Question 8\n",
        "\n",
        "**Animals:** Think of at least three different animals that have a common characteristic. Store the names of these animals in a list, and then use a for loop to print out the name of each animal.\n",
        "\n",
        "Modify your program to print a statement about each animal, such as _A dog would make a great pet._"
      ],
      "id": "6e42f992"
    },
    {
      "cell_type": "code",
      "execution_count": null,
      "metadata": {
        "id": "7489fb55",
        "vscode": {
          "languageId": "python"
        },
        "outputId": "29490a34-7f09-4d4a-85ac-edb0afed7c4e"
      },
      "outputs": [
        {
          "name": "stdout",
          "output_type": "stream",
          "text": [
            "A frog would make a great pet\n",
            "A lizard would crawl away if you're not careful\n",
            "No snakes!\n"
          ]
        }
      ],
      "source": [
        "dogs = [\"Frogs\",\"Lizards\",\"Snakes\"]\n",
        "\n",
        "for i in range(len(dogs)):\n",
        "    if i == 0:\n",
        "        print(\"A frog would make a great pet\")\n",
        "    elif i == 1:\n",
        "        print(\"A lizard would crawl away if you're not careful\")\n",
        "    else:\n",
        "        print(\"No snakes!\")"
      ],
      "id": "7489fb55"
    },
    {
      "cell_type": "markdown",
      "metadata": {
        "id": "b4484392"
      },
      "source": [
        "Add a line at the end of your program stating what these animals have in common. You could print a sentence such as _Any of these animals would make a great pet!_"
      ],
      "id": "b4484392"
    },
    {
      "cell_type": "code",
      "execution_count": null,
      "metadata": {
        "id": "eb9f8e19",
        "vscode": {
          "languageId": "python"
        },
        "outputId": "324fe0d9-3887-425e-b348-b83891d1ea1b"
      },
      "outputs": [
        {
          "name": "stdout",
          "output_type": "stream",
          "text": [
            "A frog would make a great pet\n",
            "A lizard would crawl away if you're not careful\n",
            "No snakes!\n",
            "All these animals are slimy.\n"
          ]
        }
      ],
      "source": [
        "dogs = [\"Frogs\",\"Lizards\",\"Snakes\"]\n",
        "\n",
        "for i in range(len(dogs)):\n",
        "    if i == 0:\n",
        "        print(\"A frog would make a great pet\")\n",
        "    elif i == 1:\n",
        "        print(\"A lizard would crawl away if you're not careful\")\n",
        "    else:\n",
        "        print(\"No snakes!\")\n",
        "        \n",
        "print(\"All these animals are slimy.\")"
      ],
      "id": "eb9f8e19"
    },
    {
      "cell_type": "markdown",
      "metadata": {
        "id": "ba99ccb5"
      },
      "source": [
        "## Question 9\n",
        "\n",
        "**Summing a Hundred:** Make a list of the numbers from one to one hundred, and then use `min()` and `max()` to make sure your list actually starts at one and ends at one hundred. Also, use the sum() function to see how quickly Python can add a hundred numbers."
      ],
      "id": "ba99ccb5"
    },
    {
      "cell_type": "code",
      "execution_count": null,
      "metadata": {
        "id": "6c6a27a9",
        "vscode": {
          "languageId": "python"
        },
        "outputId": "b8bdf461-f757-4794-e9ce-9ebec85b5140"
      },
      "outputs": [
        {
          "name": "stdout",
          "output_type": "stream",
          "text": [
            "1\n",
            "100\n",
            "5050\n"
          ]
        }
      ],
      "source": [
        "m = range(1,101)\n",
        "\n",
        "print(min(m))\n",
        "print(max(m))\n",
        "print(sum(m))"
      ],
      "id": "6c6a27a9"
    },
    {
      "cell_type": "markdown",
      "metadata": {
        "id": "d165cd3c"
      },
      "source": [
        "## Question 10\n",
        "\n",
        "**Odd Numbers:** Use the third argument of the `range()` function to make a list of the odd numbers from 1 to 20. Use a `for` loop to print each number."
      ],
      "id": "d165cd3c"
    },
    {
      "cell_type": "code",
      "execution_count": null,
      "metadata": {
        "id": "d276920a",
        "vscode": {
          "languageId": "python"
        },
        "outputId": "99a1c7cf-aaba-48e3-9a4c-95ecf9462f1e"
      },
      "outputs": [
        {
          "name": "stdout",
          "output_type": "stream",
          "text": [
            "1\n",
            "3\n",
            "5\n",
            "7\n",
            "9\n",
            "11\n",
            "13\n",
            "15\n",
            "17\n",
            "19\n"
          ]
        }
      ],
      "source": [
        "a = list(range(1,21,2))\n",
        "\n",
        "for i in range(len(a)):\n",
        "    print(a[i])"
      ],
      "id": "d276920a"
    },
    {
      "cell_type": "markdown",
      "metadata": {
        "id": "9e49d9eb"
      },
      "source": [
        "## Question 11\n",
        "\n",
        "**Threes:** Make a list of the multiples of 3 from 3 to 30. Use a `for` loop to print the numbers in your list."
      ],
      "id": "9e49d9eb"
    },
    {
      "cell_type": "code",
      "execution_count": null,
      "metadata": {
        "id": "4ff24fc6",
        "vscode": {
          "languageId": "python"
        },
        "outputId": "06ff72b8-d92c-4950-d560-32d31faf6d2d"
      },
      "outputs": [
        {
          "name": "stdout",
          "output_type": "stream",
          "text": [
            "3\n",
            "6\n",
            "9\n",
            "12\n",
            "15\n",
            "18\n",
            "21\n",
            "24\n",
            "27\n",
            "30\n"
          ]
        }
      ],
      "source": [
        "a = list(range(3,31,3))\n",
        "\n",
        "for i in range(len(a)):\n",
        "    print(a[i])"
      ],
      "id": "4ff24fc6"
    },
    {
      "cell_type": "markdown",
      "metadata": {
        "id": "dbcce457"
      },
      "source": [
        "## Question 12\n",
        "\n",
        "**Cube Comprehension:** Use a list comprehension to generate a list of the first 10 cubes."
      ],
      "id": "dbcce457"
    },
    {
      "cell_type": "code",
      "execution_count": null,
      "metadata": {
        "id": "df0901f8",
        "vscode": {
          "languageId": "python"
        },
        "outputId": "6e86dfc4-4e13-42e2-8c04-ec1be86d42da"
      },
      "outputs": [
        {
          "name": "stdout",
          "output_type": "stream",
          "text": [
            "[1, 8, 27, 64, 125, 216, 343, 512, 729, 1000]\n"
          ]
        }
      ],
      "source": [
        "cubes = [1,2,3,4,5,6,7,8,9,10]\n",
        "\n",
        "newcubes = [x**3 for x in cubes]\n",
        "\n",
        "print(newcubes)"
      ],
      "id": "df0901f8"
    },
    {
      "cell_type": "markdown",
      "metadata": {
        "id": "c6946e7b"
      },
      "source": [
        "## Question 13\n",
        "\n",
        "**Slices:** Using one of the programs you wrote in this lab, add several lines to the end of the program that do the following:\n",
        "\n",
        "Print the message _The first three items in the list are:_. Then use a slice to print the first three items from that program’s list."
      ],
      "id": "c6946e7b"
    },
    {
      "cell_type": "code",
      "execution_count": null,
      "metadata": {
        "id": "0e03e488",
        "vscode": {
          "languageId": "python"
        },
        "outputId": "e73514e2-8a2c-4e69-e61e-101e00fc5dd0"
      },
      "outputs": [
        {
          "name": "stdout",
          "output_type": "stream",
          "text": [
            "The first three items are: [1, 2, 3]\n"
          ]
        }
      ],
      "source": [
        "print(\"The first three items are:\",cubes[0:3])"
      ],
      "id": "0e03e488"
    },
    {
      "cell_type": "markdown",
      "metadata": {
        "id": "6f88722c"
      },
      "source": [
        "Print the message _Three items from the middle of the list are:_. Use a slice to print three items from the middle of the list."
      ],
      "id": "6f88722c"
    },
    {
      "cell_type": "code",
      "execution_count": null,
      "metadata": {
        "id": "6859a061",
        "vscode": {
          "languageId": "python"
        },
        "outputId": "af1fff7f-af5a-4fb3-d944-8d01a462d295"
      },
      "outputs": [
        {
          "name": "stdout",
          "output_type": "stream",
          "text": [
            "Three items from the middle of the list are: [4, 5, 6]\n"
          ]
        }
      ],
      "source": [
        "print(\"Three items from the middle of the list are:\",cubes[3:6])"
      ],
      "id": "6859a061"
    },
    {
      "cell_type": "markdown",
      "metadata": {
        "id": "0abc8cec"
      },
      "source": [
        "Print the message _The last three items in the list are:_. Use a slice to print the last three items in the list."
      ],
      "id": "0abc8cec"
    },
    {
      "cell_type": "code",
      "execution_count": null,
      "metadata": {
        "id": "64988cac",
        "scrolled": true,
        "vscode": {
          "languageId": "python"
        },
        "outputId": "225d452d-fc52-4f4d-b569-c5c2ea675520"
      },
      "outputs": [
        {
          "name": "stdout",
          "output_type": "stream",
          "text": [
            "The last three items in the list are: [8, 9, 10]\n"
          ]
        }
      ],
      "source": [
        "print(\"The last three items in the list are:\",cubes[-3::])"
      ],
      "id": "64988cac"
    },
    {
      "cell_type": "markdown",
      "metadata": {
        "id": "36876b9d"
      },
      "source": [
        "## Question 14\n",
        "\n",
        "**Buffet:** A buffet-style restaurant offers only five basic foods. Think of five simple foods, and store them in a tuple.\n",
        "\n",
        "Use a for loop to print each food the restaurant offers."
      ],
      "id": "36876b9d"
    },
    {
      "cell_type": "code",
      "execution_count": null,
      "metadata": {
        "id": "6f186d8a",
        "vscode": {
          "languageId": "python"
        },
        "outputId": "aea457e6-bbbf-4495-c131-651c125f1415"
      },
      "outputs": [
        {
          "name": "stdout",
          "output_type": "stream",
          "text": [
            "Apples\n",
            "Bananas\n",
            "Pasta\n",
            "Tiramisu\n",
            "Pizza\n"
          ]
        }
      ],
      "source": [
        "food = (\"Apples\",\"Bananas\",\"Pasta\",\"Tiramisu\",\"Pizza\")\n",
        "\n",
        "for i in range(len(food)):\n",
        "    print(food[i])"
      ],
      "id": "6f186d8a"
    },
    {
      "cell_type": "markdown",
      "metadata": {
        "id": "0a6ba7f3"
      },
      "source": [
        "The restaurant changes its menu, replacing two of the items with different foods. Add a line that rewrites the tuple, and then use a for loop to print each of the items on the revised menu."
      ],
      "id": "0a6ba7f3"
    },
    {
      "cell_type": "code",
      "execution_count": null,
      "metadata": {
        "id": "79b11cbc",
        "vscode": {
          "languageId": "python"
        },
        "outputId": "85b86930-165e-49f8-e63e-e23ff385dfc4"
      },
      "outputs": [
        {
          "name": "stdout",
          "output_type": "stream",
          "text": [
            "Pineapple\n",
            "Grapes\n",
            "Bananas\n",
            "Pasta\n",
            "Tiramisu\n"
          ]
        }
      ],
      "source": [
        "lst = list(food)\n",
        "lst[0:1] = [\"Pineapple\",\"Grapes\"]\n",
        "\n",
        "for i in range(len(food)):\n",
        "    print(lst[i])"
      ],
      "id": "79b11cbc"
    },
    {
      "cell_type": "markdown",
      "metadata": {
        "id": "337ac27d"
      },
      "source": [
        "## Question 15\n",
        "\n",
        "**Alien Colors:** Imagine an alien was just shot down in a game. Create a variable called `alien_color` and assign it a value of `green, yellow,` or `red`.\n",
        "\n",
        "-   Write an if statement to test whether the alien’s color is green. If it is, print a message that the player just earned 5 points.\n",
        "-   Write one version of this program that passes the if test and another that fails. (The version that fails will have no output.)"
      ],
      "id": "337ac27d"
    },
    {
      "cell_type": "code",
      "execution_count": null,
      "metadata": {
        "id": "cc3198fa",
        "vscode": {
          "languageId": "python"
        },
        "outputId": "b6c016c3-48be-4076-ef6a-216c84ea5d06"
      },
      "outputs": [
        {
          "name": "stdout",
          "output_type": "stream",
          "text": [
            "You earned 5 points.\n"
          ]
        }
      ],
      "source": [
        "alien_color = \"red\"\n",
        "\n",
        "if alien_color != \"green\":\n",
        "    a=1\n",
        "else:\n",
        "    print(\"You earned 5 points.\")\n",
        "    \n",
        "if alien_color == \"red\":\n",
        "    print(\"You earned 5 points.\")\n",
        "else:\n",
        "    print(\"No points.\")"
      ],
      "id": "cc3198fa"
    },
    {
      "cell_type": "markdown",
      "metadata": {
        "id": "57465bab"
      },
      "source": [
        "## Question 16\n",
        "\n",
        "**Stages of Life:** Write an `if-elif-else` chain that determines a person’s stage of life. Set a value for the variable `age`, and then:\n",
        "\n",
        "-   If the person is less than 2 years old, print a message that the person is a baby.\n",
        "-   If the person is at least 2 years old but less than 4, print a message that the person is a toddler.\n",
        "-   If the person is at least 4 years old but less than 13, print a message that the person is a kid.\n",
        "-   If the person is at least 13 years old but less than 20, print a message that the person is a teenager.\n",
        "-   If the person is at least 20 years old but less than 65, print a message that the person is an adult."
      ],
      "id": "57465bab"
    },
    {
      "cell_type": "code",
      "execution_count": null,
      "metadata": {
        "id": "b09c364a",
        "vscode": {
          "languageId": "python"
        },
        "outputId": "cc7dcbc1-8cda-4c0c-d953-ec841d6c96d9"
      },
      "outputs": [
        {
          "name": "stdout",
          "output_type": "stream",
          "text": [
            "You're a teenager...\n"
          ]
        }
      ],
      "source": [
        "age=18\n",
        "\n",
        "if age < 2:\n",
        "    print(\"You're a baby!\")\n",
        "elif (age >=2) & (age < 4):\n",
        "    print(\"You're a toddler.\")\n",
        "elif (age >= 4) & (age < 13):\n",
        "    print(\"You're a kid.\")\n",
        "elif (age >= 13) & (age < 20):\n",
        "    print(\"You're a teenager...\")\n",
        "elif (age >= 20) & (age <20):\n",
        "    print(\"You're an adult!\")"
      ],
      "id": "b09c364a"
    },
    {
      "cell_type": "markdown",
      "metadata": {
        "id": "96b3da06"
      },
      "source": [
        "## Question 17\n",
        "\n",
        "**Favorite Fruit:** Make a list of your favorite fruits, and then write a series of independent `if` statements that check for certain fruits in your list.\n",
        "\n",
        "-   Make a list of your three favorite fruits and call it favorite_fruits.\n",
        "-   Write five if statements. Each should check whether a certain kind of fruit is in your list. If the fruit is in your list, the if block should print a statement, such as You really like bananas!"
      ],
      "id": "96b3da06"
    },
    {
      "cell_type": "code",
      "execution_count": null,
      "metadata": {
        "id": "fc58635c",
        "vscode": {
          "languageId": "python"
        },
        "outputId": "e2078b4b-4644-404e-947d-1e3650208353"
      },
      "outputs": [
        {
          "name": "stdout",
          "output_type": "stream",
          "text": [
            "You really like Bananas\n",
            "You really like Pineapples\n",
            "You really like Apples\n"
          ]
        }
      ],
      "source": [
        "favorite_fruits = [\"Bananas\",\"Pineapples\",\"Apples\"]\n",
        "\n",
        "if \"Bananas\" in favorite_fruits:\n",
        "    print(\"You really like\",favorite_fruits[favorite_fruits.index(\"Bananas\")])\n",
        "if \"Acai\" in favorite_fruits:\n",
        "    print(\"You really like\",favorite_fruits[favorite_fruits.index(\"Acai\")])\n",
        "if \"Elderberry\" in favorite_fruits:\n",
        "    print(\"You really like\",favorite_fruits[favorite_fruits.index(\"Elderberry\")])\n",
        "if \"Pineapples\" in favorite_fruits:\n",
        "    print(\"You really like\",favorite_fruits[favorite_fruits.index(\"Pineapples\")])\n",
        "if \"Apples\" in favorite_fruits:\n",
        "    print(\"You really like\",favorite_fruits[favorite_fruits.index(\"Apples\")])"
      ],
      "id": "fc58635c"
    },
    {
      "cell_type": "markdown",
      "metadata": {
        "id": "71e4c6f1"
      },
      "source": [
        "## Question 18\n",
        "\n",
        "**Hello Admin:** Make a list of five or more usernames, including the name `admin`. Imagine you are writing code that will print a greeting to each user after they log in to a website. Loop through the list, and print a greeting to each user:\n",
        "\n",
        "-   If the username is 'admin', print a special greeting, such as _Hello admin, would you like to see a status report?_\n",
        "-   Otherwise, print a generic greeting, such as _Hello Jaden, thank you for logging in again_."
      ],
      "id": "71e4c6f1"
    },
    {
      "cell_type": "code",
      "execution_count": null,
      "metadata": {
        "id": "651e8bf2",
        "vscode": {
          "languageId": "python"
        },
        "outputId": "4bab4990-aff2-46bd-a654-a0a477f8e250"
      },
      "outputs": [
        {
          "name": "stdout",
          "output_type": "stream",
          "text": [
            "Hello Berryxx5 thanks for logging in.\n",
            "Hello Lovamane thanks for logging in.\n",
            "Hello ninjamas thanks for logging in.\n",
            "Hello Yellomybaby thanks for logging in.\n",
            "Hello Cubsfan45 thanks for logging in.\n",
            "Hello admin, would you like to see a status report?\n"
          ]
        }
      ],
      "source": [
        "usernames = [\"Berryxx5\",\"Lovamane\",\"ninjamas\",\"Yellomybaby\",\"Cubsfan45\",\"admin\"]\n",
        "\n",
        "for i in range(len(usernames)):\n",
        "    if \"admin\" in usernames[i]:\n",
        "        print(\"Hello admin, would you like to see a status report?\")\n",
        "    else:\n",
        "        print(\"Hello\",usernames[i],\"thanks for logging in.\")"
      ],
      "id": "651e8bf2"
    },
    {
      "cell_type": "markdown",
      "metadata": {
        "id": "fd53a583"
      },
      "source": [
        "## Question 19\n",
        "\n",
        "**Checking Usernames:** Do the following to create a program that simulates how websites ensure that everyone has a unique username.\n",
        "\n",
        "-   Make a list of five or more usernames called `current_users`.\n",
        "-   Make another list of five usernames called `new_users`. Make sure one or two of the new usernames are also in the `current_users` list.\n",
        "-   Loop through the `new_users` list to see if each new username has already been used. If it has, print a message that the person will need to enter a new username. If a username has not been used, print a message saying that the username is available.\n",
        "-   Make sure your comparison is case insensitive. If 'John' has been used, 'JOHN' should not be accepted. (To do this, you’ll need to make a copy of `current_users` containing the lowercase versions of all existing users.)"
      ],
      "id": "fd53a583"
    },
    {
      "cell_type": "code",
      "execution_count": null,
      "metadata": {
        "id": "9f1a4a8d",
        "vscode": {
          "languageId": "python"
        },
        "outputId": "e7b36ac1-060e-4467-e2a9-bb2855bed047"
      },
      "outputs": [
        {
          "name": "stdout",
          "output_type": "stream",
          "text": [
            "Hello Randman244 thanks for logging in.\n",
            "Hello Absolutefan thanks for logging in.\n",
            "Hello firstuserhere thanks for logging in.\n",
            "Hello nevertrustamannameddan thanks for logging in.\n",
            "Username taken. Please enter new username.\n"
          ]
        }
      ],
      "source": [
        "current_users = [\"Gahhlah\",\"Messhaluh\",\"Suggs_34\",\"Zeenorhfirst\",\"Fhroibian\"]\n",
        "\n",
        "new_users = [\"Randman244\",\"Absolutefan\",\"firstuserhere\",\"nevertrustamannameddan\",\"Fhroibian\"]\n",
        "\n",
        "for i in range(len(new_users)):\n",
        "    new_users_lower = list(map(lambda x: x.lower(), [\"Randman244\",\"Absolutefan\",\"firstuserhere\",\"nevertrustamannameddan\",\"Fhroibian\"]))\n",
        "    current_users_lower = list(map(lambda x: x.lower(), [\"Gahhlah\",\"Messhaluh\",\"Suggs_34\",\"Zeenorhfirst\",\"Fhroibian\"]))\n",
        "    if new_users_lower[i] in current_users_lower:\n",
        "        print(\"Username taken. Please enter new username.\")\n",
        "    else:\n",
        "        print(\"Hello\",new_users[i],\"thanks for logging in.\")"
      ],
      "id": "9f1a4a8d"
    },
    {
      "cell_type": "markdown",
      "metadata": {
        "id": "20f8412b"
      },
      "source": [
        "## Question 20\n",
        "\n",
        "**Ordinal Numbers:** Ordinal numbers indicate their position in a list, such as _1st_ or _2nd_. Most ordinal numbers end in _th_, except 1, 2, and 3.\n",
        "\n",
        "-   Store the numbers 1 through 9 in a list.\n",
        "-   Loop through the list.\n",
        "-   Use an `if-elif-else` chain inside the loop to print the proper ordinal ending for each number. Your output should read \"1st 2nd 3rd 4th 5th 6th 7th 8th 9th\", and each result should be on a separate line."
      ],
      "id": "20f8412b"
    },
    {
      "cell_type": "code",
      "execution_count": null,
      "metadata": {
        "id": "6231e1e4",
        "vscode": {
          "languageId": "python"
        },
        "outputId": "65d21c3a-59d5-4554-9ebd-df1b5c87064d"
      },
      "outputs": [
        {
          "name": "stdout",
          "output_type": "stream",
          "text": [
            "1st\n",
            "2nd\n",
            "3rd\n",
            "4th\n",
            "5th\n",
            "6th\n",
            "7th\n",
            "8th\n",
            "9th\n"
          ]
        }
      ],
      "source": [
        "numbers = [1,2,3,4,5,6,7,8,9]\n",
        "\n",
        "for i in range(len(numbers)):\n",
        "    if numbers[i] == numbers[numbers.index(1)]:\n",
        "        print(\"1st\")\n",
        "    elif numbers[i] == numbers[numbers.index(2)]:\n",
        "        print(\"2nd\")\n",
        "    elif numbers[i] == numbers[numbers.index(3)]:\n",
        "        print(\"3rd\")\n",
        "    elif numbers[i] == numbers[numbers.index(4)]:\n",
        "        print(\"4th\")\n",
        "    elif numbers[i] == numbers[numbers.index(5)]:\n",
        "        print(\"5th\")\n",
        "    elif numbers[i] == numbers[numbers.index(6)]:\n",
        "        print(\"6th\")\n",
        "    elif numbers[i] == numbers[numbers.index(7)]:\n",
        "        print(\"7th\")\n",
        "    elif numbers[i] == numbers[numbers.index(8)]:\n",
        "        print(\"8th\")\n",
        "    elif numbers[i] == numbers[numbers.index(9)]:\n",
        "        print(\"9th\")"
      ],
      "id": "6231e1e4"
    }
  ],
  "metadata": {
    "colab": {
      "provenance": []
    },
    "kernelspec": {
      "display_name": "Python 3",
      "language": "python",
      "name": "python3"
    },
    "language_info": {
      "codemirror_mode": {
        "name": "ipython",
        "version": 3
      },
      "file_extension": ".py",
      "mimetype": "text/x-python",
      "name": "python",
      "nbconvert_exporter": "python",
      "pygments_lexer": "ipython3",
      "version": "3.7.6"
    }
  },
  "nbformat": 4,
  "nbformat_minor": 5
}