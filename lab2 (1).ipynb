{
  "nbformat": 4,
  "nbformat_minor": 0,
  "metadata": {
    "colab": {
      "provenance": []
    },
    "kernelspec": {
      "name": "python3",
      "display_name": "Python 3"
    },
    "language_info": {
      "name": "python"
    }
  },
  "cells": [
    {
      "cell_type": "markdown",
      "source": [
        "[![colab-badge.svg](https://colab.research.google.com/assets/colab-badge.svg)](https://colab.research.google.com/drive/1yTeY2Fyjw7KrzarKYdXnLoBSrw0DgTB2?usp=sharing)"
      ],
      "metadata": {
        "id": "DfeQt5CAZUIe"
      }
    },
    {
      "cell_type": "code",
      "execution_count": 1,
      "metadata": {
        "colab": {
          "base_uri": "https://localhost:8080/"
        },
        "id": "s0QSHHr6ZCLA",
        "outputId": "7366d6c5-79c5-4969-d048-a56e6bbe61be"
      },
      "outputs": [
        {
          "output_type": "stream",
          "name": "stdout",
          "text": [
            "A random number between 0 and 1: [0.18831603]\n",
            "Hello World!\n"
          ]
        }
      ],
      "source": [
        "import numpy as np\n",
        "print(\"A random number between 0 and 1:\",np.random.random(1))\n",
        "print(\"Hello World!\")"
      ]
    },
    {
      "cell_type": "markdown",
      "source": [
        "\n",
        "\n",
        "```\n",
        "# This is my notebook that you can open in Colab!\n",
        "```\n",
        "\n"
      ],
      "metadata": {
        "id": "3V7yXxnoZRkm"
      }
    }
  ]
}