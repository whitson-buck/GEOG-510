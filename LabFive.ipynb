{
 "cells": [
  {
   "cell_type": "markdown",
   "metadata": {
    "id": "4e70be69"
   },
   "source": [
    "# Lab 5\n",
    "\n",
    "[![image](https://colab.research.google.com/assets/colab-badge.svg)](https://colab.research.google.com/github/giswqs/geosdemo/blob/master/docs/labs/lab5.ipynb)\n",
    "\n",
    "## Submission instructions\n",
    "\n",
    "1. Download the notebook from https://geosdemo.gishub.org/labs/lab5\n",
    "2. Complete the lab questions\n",
    "3. Restart Kernel and Run All Cells\n",
    "4. Upload the notebook to your GitHub repository\n",
    "5. Make sure the notebook has an `Open In Colab` badge. Click on the badge to make sure your notebook can be opened in Colab.\n",
    "6. Submit the link to the notebook on your GitHub repository to Canvas"
   ]
  },
  {
   "cell_type": "code",
   "execution_count": 1,
   "metadata": {
    "id": "8de60915"
   },
   "outputs": [
    {
     "name": "stdout",
     "output_type": "stream",
     "text": [
      "Submitted time: 2023-03-22 09:42:28.513639\n"
     ]
    }
   ],
   "source": [
    "from datetime import datetime\n",
    "\n",
    "now = datetime.now()\n",
    "print(f\"Submitted time: {now}\")"
   ]
  },
  {
   "cell_type": "markdown",
   "metadata": {
    "id": "a526d1ff"
   },
   "source": [
    "## Question 1\n",
    "\n",
    "**Person:** Use a dictionary to store information about a person you know. Store their first name, last name, age, and the city in which they live. You should have keys such as first_name, last_name, age, and city. Print each piece of information stored in your dictionary."
   ]
  },
  {
   "cell_type": "code",
   "execution_count": 2,
   "metadata": {
    "id": "060bd962"
   },
   "outputs": [
    {
     "name": "stdout",
     "output_type": "stream",
     "text": [
      "Gary Mcnamara 37 Los Angeles\n"
     ]
    }
   ],
   "source": [
    "dict1 = {\"first_name\":\"Gary\",\"last_name\":\"Mcnamara\",\"age\":\"37\",\"city\":\"Los Angeles\"}\n",
    "\n",
    "\n",
    "print(dict1[\"first_name\"],dict1[\"last_name\"],dict1[\"age\"],dict1[\"city\"])"
   ]
  },
  {
   "cell_type": "markdown",
   "metadata": {
    "id": "32bb120e"
   },
   "source": [
    "## Question 2\n",
    "\n",
    "**Favorite Numbers:** Use a dictionary to store people’s favorite numbers. Think of five names, and use them as keys in your dictionary. Think of a favorite number for each person, and store each as a value in your dictionary. Print each person’s name and their favorite number. For even more fun, poll a few friends and get some actual data for your program."
   ]
  },
  {
   "cell_type": "code",
   "execution_count": 3,
   "metadata": {
    "id": "37115a33"
   },
   "outputs": [
    {
     "name": "stdout",
     "output_type": "stream",
     "text": [
      "Me - 3\n",
      "Sarah - 8\n",
      "Li - 37\n",
      "Gary - 14\n",
      "Larsen - 4\n"
     ]
    }
   ],
   "source": [
    "favnums = {\"Me\":3,\"Sarah\":8,\"Li\":37,\"Gary\":14,\"Larsen\":4}\n",
    "\n",
    "for keys, value in favnums.items():\n",
    "   print(keys,\"-\",value)"
   ]
  },
  {
   "cell_type": "markdown",
   "metadata": {
    "id": "eb31ca53"
   },
   "source": [
    "## Question 3\n",
    "\n",
    "**Glossary:** A Python dictionary can be used to model an actual dictionary. However, to avoid confusion, let’s call it a glossary.\n",
    "\n",
    "- Think of five programming words you’ve learned about in the previous chapters. Use these words as the keys in your glossary, and store their meanings as values.\n",
    "- Print each word and its meaning as neatly formatted output. You might print the word followed by a colon and then its meaning, or print the word on one line and then print its meaning indented on a second line. Use the newline character (\\n) to insert a blank line between each word-meaning pair in your output."
   ]
  },
  {
   "cell_type": "code",
   "execution_count": 4,
   "metadata": {
    "id": "7bdd7f86"
   },
   "outputs": [
    {
     "name": "stdout",
     "output_type": "stream",
     "text": [
      "Tuple \n",
      " Store multiple items in a variable\n",
      "For Loop \n",
      " Method by which list is iteratively accesssed\n",
      "Bug \n",
      " A syntax or logic error in programming that causes an error\n",
      "Method \n",
      " A function which is a member of a class\n",
      "Function \n",
      " A function is a block of code which only runs when it is called\n"
     ]
    }
   ],
   "source": [
    "glossary = {\"Tuple\":\"Store multiple items in a variable\",\"For Loop\":\"Method by which list is iteratively accesssed\",\n",
    "            \"Bug\":\"A syntax or logic error in programming that causes an error\",\n",
    "            \"Method\":\"A function which is a member of a class\",\n",
    "            \"Function\":\"A function is a block of code which only runs when it is called\"}\n",
    "\n",
    "print(list(glossary.keys())[0],\"\\n\",glossary[\"Tuple\"])\n",
    "print(list(glossary.keys())[1],\"\\n\",glossary[\"For Loop\"])\n",
    "print(list(glossary.keys())[2],\"\\n\",glossary[\"Bug\"])\n",
    "print(list(glossary.keys())[3],\"\\n\",glossary[\"Method\"])\n",
    "print(list(glossary.keys())[4],\"\\n\",glossary[\"Function\"])"
   ]
  },
  {
   "cell_type": "markdown",
   "metadata": {
    "id": "9bdb2d85"
   },
   "source": [
    "## Question 4\n",
    "\n",
    "**Glossary 2:** Now that you know how to loop through a dictionary, clean up the code from Question 3 by replacing your series of print() calls with a loop that runs through the dictionary’s keys and values. When you’re sure that your loop works, add five more Python terms to your glossary. When you run your program again, these new words and meanings should automatically be included in the output."
   ]
  },
  {
   "cell_type": "code",
   "execution_count": 5,
   "metadata": {
    "id": "018d37ff"
   },
   "outputs": [
    {
     "name": "stdout",
     "output_type": "stream",
     "text": [
      "Tuple\n",
      "Store multiple items in a variable\n",
      "For Loop\n",
      "method by which list is iteratively accesssed\n",
      "Bug\n",
      "a syntax or logic error in programming that causes an error\n",
      "Method\n",
      "A function which is a member of a class\n",
      "Function\n",
      "A function is a block of code which only runs when it is called\n",
      "Int\n",
      "The integer number type\n",
      "Float\n",
      "The floating number type\n",
      "Boolean\n",
      "True or False values\n",
      "Operators\n",
      "Used to perform mathematical operations\n",
      "numpy\n",
      "Math package in Python\n"
     ]
    }
   ],
   "source": [
    "glossary = {\"Tuple\":\"Store multiple items in a variable\",\"For Loop\":\"method by which list is iteratively accesssed\",\n",
    "            \"Bug\":\"a syntax or logic error in programming that causes an error\",\n",
    "            \"Method\":\"A function which is a member of a class\",\n",
    "            \"Function\":\"A function is a block of code which only runs when it is called\",\n",
    "            \"Int\":\"The integer number type\",\"Float\":\"The floating number type\",\"Boolean\":\"True or False values\",\n",
    "            \"Operators\":\"Used to perform mathematical operations\",\"numpy\":\"Math package in Python\"}\n",
    "\n",
    "for keys, value in glossary.items():\n",
    "   print(f\"{keys}\\n{value}\")"
   ]
  },
  {
   "cell_type": "markdown",
   "metadata": {
    "id": "375356d5"
   },
   "source": [
    "## Question 5\n",
    "\n",
    "**Rivers:** Make a dictionary containing three major rivers and the country each river runs through. One key-value pair might be 'nile': 'egypt'.\n",
    "\n",
    "- Use a loop to print a sentence about each river, such as _The Nile runs through Egypt._\n",
    "- Use a loop to print the name of each river included in the dictionary.\n",
    "- Use a loop to print the name of each country included in the dictionary."
   ]
  },
  {
   "cell_type": "code",
   "execution_count": 6,
   "metadata": {
    "id": "2fd7b758"
   },
   "outputs": [
    {
     "name": "stdout",
     "output_type": "stream",
     "text": [
      "The Nile runs through Egypt\n",
      "The Thames runs through London\n",
      "The Tigris runs through Iraq\n"
     ]
    }
   ],
   "source": [
    "rivers = {\"Nile\":\"Egypt\",\"Thames\":\"London\",\"Tigris\":\"Iraq\"}\n",
    "\n",
    "for keys, value in rivers.items():\n",
    "    print(f\"The {keys} runs through {value}\")"
   ]
  },
  {
   "cell_type": "markdown",
   "metadata": {
    "id": "8b0b500d"
   },
   "source": [
    "## Question 6\n",
    "\n",
    "**Cities:** Make a dictionary called `cities`. Use the names of three cities as keys in your dictionary. Create a dictionary of information about each city and include the country that the city is in, its approximate population, and one fact about that city. The keys for each city’s dictionary should be something like `country`, `population`, and `fact`. Print the name of each city and all of the information you have stored about it."
   ]
  },
  {
   "cell_type": "code",
   "execution_count": 7,
   "metadata": {
    "id": "28a77010"
   },
   "outputs": [
    {
     "name": "stdout",
     "output_type": "stream",
     "text": [
      "\n",
      "City: Nashville\n",
      "\tCountry: USA\n",
      "\tPopulation: 2 Million\n",
      "\tFact: Music City\n",
      "\n",
      "City: Dhaka City\n",
      "\tCountry: Bangladesh\n",
      "\tPopulation: 22.4 Million\n",
      "\tFact: Name means 'The Hidden Goddess'\n",
      "\n",
      "City: Jacksonville\n",
      "\tCountry: USA\n",
      "\tPopulation: 4 Million\n",
      "\tFact: Home of the Jacksonville Jaguars\n"
     ]
    }
   ],
   "source": [
    "cities = {\n",
    "    'Nashville': {\n",
    "        'country': 'USA',\n",
    "        'population': '2 Million',\n",
    "        'fact': 'Music City',\n",
    "        },\n",
    "\n",
    "    'Dhaka City': {\n",
    "        'country': 'Bangladesh',\n",
    "        'population': '22.4 Million',\n",
    "        'fact': \"Name means 'The Hidden Goddess'\",\n",
    "        },\n",
    "    \n",
    "    'Jacksonville': {\n",
    "        'country': 'USA',\n",
    "        'population': '4 Million',\n",
    "        'fact': 'Home of the Jacksonville Jaguars',\n",
    "        },\n",
    "\n",
    "\n",
    "    }\n",
    "\n",
    "for cities, facts in cities.items():\n",
    "    print(f\"\\nCity: {cities}\")\n",
    "    print(f\"\\tCountry: {facts['country']}\")\n",
    "    print(f\"\\tPopulation: {facts['population']}\")\n",
    "    print(f\"\\tFact: {facts['fact']}\")\n"
   ]
  },
  {
   "cell_type": "markdown",
   "metadata": {
    "id": "874541d3"
   },
   "source": [
    "## Question 7\n",
    "\n",
    "**Rental Car:** Write a program that asks the user what kind of rental car they would like. Print a message about that car, such as “Let me see if I can find you a Subaru.”"
   ]
  },
  {
   "cell_type": "code",
   "execution_count": 8,
   "metadata": {
    "id": "5283628b"
   },
   "outputs": [
    {
     "name": "stdout",
     "output_type": "stream",
     "text": [
      "What kind of car would you like? subaru\n",
      "\n",
      "Let me see if I can find you a subaru.\n"
     ]
    }
   ],
   "source": [
    "userinput = input(\"What kind of car would you like? \")\n",
    "print(f\"\\nLet me see if I can find you a {userinput}.\")"
   ]
  },
  {
   "cell_type": "markdown",
   "metadata": {
    "id": "e03a200a"
   },
   "source": [
    "## Question 8\n",
    "\n",
    "**Restaurant Seating:** Write a program that asks the user how many people are in their dinner group. If the answer is more than eight, print a message saying they’ll have to wait for a table. Otherwise, report that their table is ready."
   ]
  },
  {
   "cell_type": "code",
   "execution_count": 9,
   "metadata": {
    "id": "96167a0f"
   },
   "outputs": [
    {
     "name": "stdout",
     "output_type": "stream",
     "text": [
      "How many in your group tonight? 8\n",
      "Your table is ready!\n"
     ]
    }
   ],
   "source": [
    "dinnergroup = input(\"How many in your group tonight? \")\n",
    "\n",
    "if int(dinnergroup) > 8:\n",
    "    print(\"Sorry, but you'll need to wait.\")\n",
    "else:\n",
    "    print(\"Your table is ready!\")"
   ]
  },
  {
   "cell_type": "markdown",
   "metadata": {
    "id": "a523d8a7"
   },
   "source": [
    "## Question 9\n",
    "\n",
    "**Multiples of Ten:** Ask the user for a number, and then report whether the number is a multiple of 10 or not."
   ]
  },
  {
   "cell_type": "code",
   "execution_count": 10,
   "metadata": {
    "id": "77c9702e"
   },
   "outputs": [
    {
     "name": "stdout",
     "output_type": "stream",
     "text": [
      "Enter a number: 10\n",
      "\n",
      "Divisible by 10.\n"
     ]
    }
   ],
   "source": [
    "multiple = input(\"Enter a number: \")\n",
    "\n",
    "if int(multiple)%10 == 0:\n",
    "    print(\"\\nDivisible by 10.\")\n",
    "else:\n",
    "    print(\"\\nNot divisible by 10.\")"
   ]
  },
  {
   "cell_type": "markdown",
   "metadata": {
    "id": "de550983"
   },
   "source": [
    "## Question 10\n",
    "\n",
    "**Pizza Toppings:** Write a loop that prompts the user to enter a series of pizza toppings until they enter a 'quit' value. As they enter each topping, print a message saying you’ll add that topping to their pizza."
   ]
  },
  {
   "cell_type": "code",
   "execution_count": 11,
   "metadata": {
    "id": "11f4d8e4"
   },
   "outputs": [
    {
     "name": "stdout",
     "output_type": "stream",
     "text": [
      "Give me your favorite topping: (type 'quit' to quit) HTHOTHT\n",
      "\n",
      "I'll add that to your pizza.\n",
      "Give me your favorite topping: (type 'quit' to quit) quit\n"
     ]
    }
   ],
   "source": [
    "x = True\n",
    "\n",
    "while x is True:\n",
    "    userinput = input(\"Give me your favorite topping: (type 'quit' to quit) \")\n",
    "    if str(userinput) == \"quit\":\n",
    "        x = False\n",
    "    else:\n",
    "        x = True\n",
    "        print(\"\\nI'll add that to your pizza.\")"
   ]
  },
  {
   "cell_type": "markdown",
   "metadata": {
    "id": "ccfe4831"
   },
   "source": [
    "## Question 11\n",
    "\n",
    "**Message:** Write a function called `display_message()` that prints one sentence telling everyone what you are learning about in this chapter. Call the function, and make sure the message displays correctly."
   ]
  },
  {
   "cell_type": "code",
   "execution_count": 12,
   "metadata": {
    "id": "7080b52a"
   },
   "outputs": [
    {
     "name": "stdout",
     "output_type": "stream",
     "text": [
      "I learned how to write better dictionaries.\n"
     ]
    }
   ],
   "source": [
    "def display_message():\n",
    "    print(\"I learned how to write better dictionaries.\")\n",
    "\n",
    "display_message()"
   ]
  },
  {
   "cell_type": "markdown",
   "metadata": {
    "id": "2b5e23db"
   },
   "source": [
    "## Question 12\n",
    "\n",
    "**Favorite Book:** Write a function called `favorite_book()` that accepts one parameter, title. The function should print a message, such as `One of my favorite books is Alice in Wonderland`. Call the function, making sure to include a book title as an argument in the function call."
   ]
  },
  {
   "cell_type": "code",
   "execution_count": 13,
   "metadata": {
    "id": "b33bd108"
   },
   "outputs": [
    {
     "name": "stdout",
     "output_type": "stream",
     "text": [
      "One of my favorite books is The Stranger\n"
     ]
    }
   ],
   "source": [
    "def favorite_book(title):\n",
    "    print(\"One of my favorite books is\",str(title))\n",
    "\n",
    "favorite_book(\"The Stranger\")"
   ]
  },
  {
   "cell_type": "markdown",
   "metadata": {
    "id": "4904419f"
   },
   "source": [
    "## Question 13\n",
    "\n",
    "**T-Shirt:** Write a function called `make_shirt()` that accepts a size and the text of a message that should be printed on the shirt. The function should print a sentence summarizing the size of the shirt and the message printed on it.\n",
    "\n",
    "Call the function once using positional arguments to make a shirt. Call the function a second time using keyword arguments."
   ]
  },
  {
   "cell_type": "code",
   "execution_count": 14,
   "metadata": {
    "id": "53d690ca"
   },
   "outputs": [
    {
     "name": "stdout",
     "output_type": "stream",
     "text": [
      "You want a size Large and you want it to say Yo momma\n",
      "You want a size XXXL and you want it to say My name is Walter White\n"
     ]
    }
   ],
   "source": [
    "def make_shirt(size,text):\n",
    "    print(\"You want a size\",str(size),\"and you want it to say\",str(text))\n",
    "\n",
    "make_shirt(\"Large\",\"Yo momma\")\n",
    "make_shirt(text=\"My name is Walter White\",size=\"XXXL\")"
   ]
  },
  {
   "cell_type": "markdown",
   "metadata": {
    "id": "c6a6dc4b"
   },
   "source": [
    "## Question 14\n",
    "\n",
    "**Large Shirts:** Modify the `make_shirt()` function so that shirts are large by default with a message that reads _I love Python_. Make a large shirt and a medium shirt with the default message, and a shirt of any size with a different message."
   ]
  },
  {
   "cell_type": "code",
   "execution_count": 15,
   "metadata": {
    "id": "658f7e3f"
   },
   "outputs": [
    {
     "name": "stdout",
     "output_type": "stream",
     "text": [
      "You want a size Large and you want it to say I love Python\n",
      "You want a size Medium and you want it to say I love Python\n",
      "You want a size XXXL and you want it to say New Message\n"
     ]
    }
   ],
   "source": [
    "def make_shirt(size=\"Large\",text=\"I love Python\"):\n",
    "    print(\"You want a size\",str(size),\"and you want it to say\",str(text))\n",
    "\n",
    "make_shirt()\n",
    "make_shirt(\"Medium\")\n",
    "make_shirt(\"XXXL\",\"New Message\")"
   ]
  },
  {
   "cell_type": "markdown",
   "metadata": {
    "id": "64fd6e85"
   },
   "source": [
    "## Question 15\n",
    "\n",
    "**Cities:** Write a function called `describe_city()` that accepts the name of a city and its country. The function should print a simple sentence, such as `Reykjavik is in Iceland`. Give the parameter for the country a default value. Call your function for three different cities, at least one of which is not in the default country."
   ]
  },
  {
   "cell_type": "code",
   "execution_count": 16,
   "metadata": {
    "id": "bc493373"
   },
   "outputs": [
    {
     "name": "stdout",
     "output_type": "stream",
     "text": [
      "Helo is in Yugoslavia.\n",
      "Jacksonville is in the USA.\n",
      "Chicago is in the USA.\n"
     ]
    }
   ],
   "source": [
    "def describe_city(city,country=\"the USA\"):\n",
    "    print(f\"{city} is in {country}.\")\n",
    "    \n",
    "describe_city(\"Helo\",\"Yugoslavia\")\n",
    "describe_city(\"Jacksonville\")\n",
    "describe_city(\"Chicago\")"
   ]
  },
  {
   "cell_type": "markdown",
   "metadata": {
    "id": "259cdcdc"
   },
   "source": [
    "## Question 16\n",
    "\n",
    "**City Names:** Write a function called `city_country()` that takes in the name of a city and its country. The function should return a string formatted like this:\n",
    "\n",
    "```text\n",
    "Santiago, Chile\n",
    "```\n",
    "\n",
    "Call your function with at least three city-country pairs, and print the values that are returned."
   ]
  },
  {
   "cell_type": "code",
   "execution_count": 17,
   "metadata": {
    "id": "f1b5b16e"
   },
   "outputs": [
    {
     "name": "stdout",
     "output_type": "stream",
     "text": [
      "Santiago, Chile\n",
      "Rio, Brazil\n",
      "LA, USA\n"
     ]
    }
   ],
   "source": [
    "def city_country(city,country):\n",
    "    print(f\"{city}, {country}\")\n",
    "\n",
    "city_country(\"Santiago\",\"Chile\")\n",
    "city_country(\"Rio\",\"Brazil\")\n",
    "city_country(\"LA\",\"USA\")"
   ]
  },
  {
   "cell_type": "markdown",
   "metadata": {
    "id": "491f64a4"
   },
   "source": [
    "## Question 17\n",
    "\n",
    "**Album:** Write a function called `make_album()` that builds a dictionary describing a music album. The function should take in an artist name and an album title, and it should return a dictionary containing these two pieces of information. Use the function to make three dictionaries representing different albums. Print each return value to show that the dictionaries are storing the album information correctly.\n",
    "\n",
    "Use None to add an optional parameter to make_album() that allows you to store the number of songs on an album. If the calling line includes a value for the number of songs, add that value to the album’s dictionary. Make at least one new function call that includes the number of songs on an album."
   ]
  },
  {
   "cell_type": "code",
   "execution_count": 18,
   "metadata": {
    "id": "550b2be6"
   },
   "outputs": [
    {
     "name": "stdout",
     "output_type": "stream",
     "text": [
      "Kanye West released Yeezus which contains 15 songs\n"
     ]
    }
   ],
   "source": [
    "def make_album(name,album,songs=None):\n",
    "    dic = {str(name):str(album),songs:songs}\n",
    "    print(list(dic)[0],\"released\",dic[name],\"which contains\",dic[songs],\"songs\")\n",
    "\n",
    "make_album(\"Kanye West\",\"Yeezus\",15)"
   ]
  },
  {
   "cell_type": "markdown",
   "metadata": {
    "id": "42f6a72f"
   },
   "source": [
    "## Question 18\n",
    "\n",
    "**User Albums:** Start with your program from Question 17. Write a `while` loop that allows users to enter an album’s artist and title. Once you have that information, call `make_album()` with the user’s input and print the dictionary that’s created. Be sure to include a quit value in the `while` loop."
   ]
  },
  {
   "cell_type": "code",
   "execution_count": 19,
   "metadata": {
    "id": "2ba9b4ba"
   },
   "outputs": [
    {
     "name": "stdout",
     "output_type": "stream",
     "text": [
      "Enter the artist: kna\n",
      "Enter the album: af\n",
      "How many songs? 12\n",
      "kna released af which contains 12 songs\n"
     ]
    }
   ],
   "source": [
    "def make_album(name,album,songs=None):\n",
    "    dic = {str(name):str(album),songs:songs}\n",
    "    print(list(dic)[0],\"released\",dic[name],\"which contains\",dic[songs],\"songs\")\n",
    "\n",
    "x = True\n",
    "while x is True:\n",
    "    input1 = input(\"Enter the artist: \")\n",
    "    input2 = input(\"Enter the album: \")\n",
    "    input3 = input(\"How many songs? \")\n",
    "    x = False\n",
    "\n",
    "make_album(input1,input2,input3)"
   ]
  },
  {
   "cell_type": "markdown",
   "metadata": {
    "id": "97bab8c2"
   },
   "source": [
    "## Question 19\n",
    "\n",
    "**Messages:** Make a list containing a series of short text messages. Pass the list to a function called `show_messages()`, which prints each text message."
   ]
  },
  {
   "cell_type": "code",
   "execution_count": 20,
   "metadata": {
    "id": "f8f3ee4e"
   },
   "outputs": [
    {
     "name": "stdout",
     "output_type": "stream",
     "text": [
      "This\n",
      "is\n",
      "a\n",
      "series\n",
      "of\n",
      "short\n",
      "messages\n"
     ]
    }
   ],
   "source": [
    "series = [\"This\",\"is\",\"a\",\"series\",\"of\",\"short\",\"messages\"]\n",
    "\n",
    "def show_messages(lis):\n",
    "    for i in range(len(lis)):\n",
    "        print(lis[i])\n",
    "        \n",
    "show_messages(series)"
   ]
  },
  {
   "cell_type": "markdown",
   "metadata": {
    "id": "a8bcea3c"
   },
   "source": [
    "## Question 20\n",
    "\n",
    "**Sending Messages:** Start with a copy of your program from Question 19. Write a function called `send_messages()` that prints each text message and moves each message to a new list called `sent_messages` as it’s printed. After calling the function, print both of your lists to make sure the messages were moved correctly."
   ]
  },
  {
   "cell_type": "code",
   "execution_count": 21,
   "metadata": {
    "id": "c5340719"
   },
   "outputs": [
    {
     "name": "stdout",
     "output_type": "stream",
     "text": [
      "This\n",
      "is\n",
      "a\n",
      "series\n",
      "of\n",
      "short\n",
      "messages\n",
      "This\n",
      "is\n",
      "a\n",
      "series\n",
      "of\n",
      "short\n",
      "messages\n"
     ]
    }
   ],
   "source": [
    "series = [\"This\",\"is\",\"a\",\"series\",\"of\",\"short\",\"messages\"]\n",
    "\n",
    "def show_messages(lis):\n",
    "    for i in range(len(lis)):\n",
    "        print(lis[i])\n",
    "\n",
    "def send_messages(lis):\n",
    "    sent_messages = []\n",
    "    for i in range(len(lis)):\n",
    "        sent_messages.insert(i,lis[i])\n",
    "        print(sent_messages[i])\n",
    "        \n",
    "show_messages(series)\n",
    "send_messages(series)"
   ]
  },
  {
   "cell_type": "markdown",
   "metadata": {
    "id": "c98f1dd0"
   },
   "source": [
    "## Question 21\n",
    "\n",
    "**Learning Python:** Open a blank file in your text editor and write a few lines summarizing what you’ve learned about Python so far. Start each line with the phrase _In Python you can. . .._ Save the file as _learning_python.txt_ in the same directory as your exercises from this chapter. Write a program that reads the file and prints what you wrote three times. Print the contents once by reading in the entire file, once by looping over the file object, and once by storing the lines in a list and then working with them outside the _with_ block."
   ]
  },
  {
   "cell_type": "code",
   "execution_count": 47,
   "metadata": {
    "id": "cb5da040"
   },
   "outputs": [
    {
     "name": "stdout",
     "output_type": "stream",
     "text": [
      "in python ive learned about dictionaries\n",
      "in python ive learned about lists\n",
      "in python ive learned about loops\n",
      "in python ive learned about patience\n",
      "__________________________________________\n",
      "in python ive learned about dictionaries\n",
      "\n",
      "in python ive learned about lists\n",
      "\n",
      "in python ive learned about loops\n",
      "\n",
      "in python ive learned about patience\n",
      "__________________________________________\n",
      "in python ive learned about dictionaries\n",
      "in python ive learned about lists\n",
      "in python ive learned about loops\n",
      "in python ive learned about patience\n"
     ]
    }
   ],
   "source": [
    "file_path = 'C:/Users/ninja/Downloads/learning_python.txt'\n",
    "\n",
    "with open(file_path) as file:\n",
    "    print(file.read())\n",
    "\n",
    "print(\"__________________________________________\")\n",
    "\n",
    "with open(file_path) as file:\n",
    "    for line in file:\n",
    "        print(line)\n",
    "    \n",
    "print(\"__________________________________________\")\n",
    "\n",
    "with open(file_path) as file:\n",
    "    lines = file.readlines()\n",
    "\n",
    "for line in lines:\n",
    "    print(line.rstrip())\n"
   ]
  },
  {
   "cell_type": "markdown",
   "metadata": {
    "id": "4a1a04ad"
   },
   "source": [
    "## Question 22\n",
    "\n",
    "**Learning C:** You can use the replace() method to replace any word in a string with a different word. Here’s a quick example showing how to replace 'dog' with 'cat' in a sentence:\n",
    "\n",
    "```text\n",
    "message = \"I really like dogs.\"\n",
    "message.replace('dog', 'cat')\n",
    "'I really like cats.'\n",
    "```\n",
    "\n",
    "Read in each line from the file you just created, _learning_python.txt_, and replace the word _Python_ with the name of another language, such as _C_. Print each modified line to the screen."
   ]
  },
  {
   "cell_type": "code",
   "execution_count": 52,
   "metadata": {
    "id": "b11b8018"
   },
   "outputs": [
    {
     "name": "stdout",
     "output_type": "stream",
     "text": [
      "['in C ive learned about dictionaries\\n', 'in C ive learned about lists\\n', 'in C ive learned about loops\\n', 'in C ive learned about patience']\n"
     ]
    }
   ],
   "source": [
    "file_path = 'C:/Users/ninja/Downloads/learning_python.txt'\n",
    "\n",
    "with open(file_path) as file:\n",
    "    lines = file.readlines()\n",
    "    lines_new = [i.replace('python', 'C') for i in lines]\n",
    "\n",
    "\n",
    "print(lines_new)"
   ]
  },
  {
   "cell_type": "markdown",
   "metadata": {
    "id": "0921244a"
   },
   "source": [
    "## Question 23\n",
    "\n",
    "**Guest:** Write a program that prompts the user for their name. When they respond, write their name to a file called guest.txt."
   ]
  },
  {
   "cell_type": "code",
   "execution_count": 53,
   "metadata": {
    "id": "340d8f4b"
   },
   "outputs": [
    {
     "name": "stdout",
     "output_type": "stream",
     "text": [
      "Whats your name? Whitty Mcgriddy\n"
     ]
    }
   ],
   "source": [
    "userinput = input(\"Whats your name? \")\n",
    "\n",
    "filename = 'guest.txt'\n",
    "\n",
    "with open(filename, 'w') as file_object:\n",
    "    file_object.write(f\"{userinput}\")"
   ]
  },
  {
   "cell_type": "markdown",
   "metadata": {
    "id": "24b72b21"
   },
   "source": [
    "## Question 24\n",
    "\n",
    "**Guest Book:** Write a while loop that prompts users for their name. When they enter their name, print a greeting to the screen and add a line recording their visit in a file called guest_book.txt. Make sure each entry appears on a new line in the file."
   ]
  },
  {
   "cell_type": "code",
   "execution_count": 6,
   "metadata": {
    "id": "2326c653"
   },
   "outputs": [
    {
     "name": "stdout",
     "output_type": "stream",
     "text": [
      "Whats your name? whitson\n",
      "\n",
      "Hello, whitson!\n",
      "Whats your name? test\n",
      "\n",
      "Hello, test!\n",
      "Whats your name? sd\n",
      "\n",
      "Hello, sd!\n",
      "Whats your name? asfsa\n",
      "\n",
      "Hello, asfsa!\n",
      "Whats your name? s\n",
      "\n",
      "Hello, s!\n",
      "Whats your name? sa\n",
      "\n",
      "Hello, sa!\n",
      "Whats your name? sag\n",
      "\n",
      "Hello, sag!\n",
      "Whats your name? sgd\n",
      "\n",
      "Hello, sgd!\n",
      "Whats your name? quit\n"
     ]
    }
   ],
   "source": [
    "filename = 'guest.txt'\n",
    "\n",
    "x = True\n",
    "while x:\n",
    "    userinput = input(\"Whats your name? \")\n",
    "    if str(userinput) == \"quit\":\n",
    "        x = False\n",
    "    else:\n",
    "        print(f\"\\nHello, {userinput}!\")\n",
    "        with open(filename, 'a') as file_object:\n",
    "            file_object.write(f\"{userinput}\\n\")"
   ]
  },
  {
   "cell_type": "markdown",
   "metadata": {
    "id": "f3075d32"
   },
   "source": [
    "## Question 25\n",
    "\n",
    "**Programming Poll:** Write a while loop that asks people why they like programming. Each time someone enters a reason, add their reason to a file that stores all the responses."
   ]
  },
  {
   "cell_type": "code",
   "execution_count": 7,
   "metadata": {
    "id": "042dfb04"
   },
   "outputs": [
    {
     "name": "stdout",
     "output_type": "stream",
     "text": [
      "Why do you like programming? (type quit to exit) its fun\n",
      "Why do you like programming? (type quit to exit) I hate life\n",
      "Why do you like programming? (type quit to exit) uhushuhuhh\n",
      "Why do you like programming? (type quit to exit) quit\n"
     ]
    }
   ],
   "source": [
    "filename = 'reasons.txt'\n",
    "\n",
    "x = True\n",
    "while x:\n",
    "    userinput = input(\"Why do you like programming? (type quit to exit) \")\n",
    "    if str(userinput) == \"quit\":\n",
    "        x = False\n",
    "    else:\n",
    "        with open(filename, 'a') as file_object:\n",
    "            file_object.write(f\"{userinput}\\n\")"
   ]
  },
  {
   "cell_type": "markdown",
   "metadata": {
    "id": "ed07a1ca"
   },
   "source": [
    "## Question 26\n",
    "\n",
    "**Addition:** One common problem when prompting for numerical input occurs when people provide text instead of numbers. When you try to convert the input to an int, you’ll get a ValueError. Write a program that prompts for two numbers. Add them together and print the result. Catch the ValueError if either input value is not a number, and print a friendly error message. Test your program by entering two numbers and then by entering some text instead of a number."
   ]
  },
  {
   "cell_type": "code",
   "execution_count": 12,
   "metadata": {
    "id": "eaf686f8"
   },
   "outputs": [
    {
     "name": "stdout",
     "output_type": "stream",
     "text": [
      "The first number: fe\n",
      "The second number: 235\n",
      "You can't add those values! Try again.\n"
     ]
    }
   ],
   "source": [
    "def twonumbs():\n",
    "    one = input(\"The first number: \")\n",
    "    two = input(\"The second number: \")\n",
    "    try:\n",
    "        print(int(one)+int(two))\n",
    "    except ValueError:\n",
    "        print(\"You can't add those values! Try again.\")\n",
    "        \n",
    "twonumbs()"
   ]
  },
  {
   "cell_type": "markdown",
   "metadata": {
    "id": "09db5341"
   },
   "source": [
    "## Question 27\n",
    "\n",
    "**Addition Calculator:** Wrap your code from Question 26 in a while loop so the user can continue entering numbers even if they make a mistake and enter text instead of a number."
   ]
  },
  {
   "cell_type": "code",
   "execution_count": null,
   "metadata": {
    "id": "916c769d"
   },
   "outputs": [],
   "source": [
    "def twonumbs():\n",
    "    x = True\n",
    "    while x:\n",
    "        number = input(\"Give me number: (type 0 to exit) \")\n",
    "        newnumber = int(number)\n",
    "        if newnumber == 0:\n",
    "            break\n",
    "        else:\n",
    "            try:\n",
    "                print(newnumber)\n",
    "            except ValueError:\n",
    "                print(\"You can't add those values! Try again.\")\n",
    "        \n",
    "twonumbs()"
   ]
  },
  {
   "cell_type": "markdown",
   "metadata": {
    "id": "288099a9"
   },
   "source": [
    "## Question 28\n",
    "\n",
    "**Cats and Dogs:** Make two files, _cats.txt_ and _dogs.txt_. Store at least three names of cats in the first file and three names of dogs in the second file. Write a program that tries to read these files and print the contents of the file to the screen. Wrap your code in a `try-except` block to catch the `FileNotFound` error, and print a friendly message if a file is missing. Move one of the files to a different location on your system, and make sure the code in the `except` block executes properly."
   ]
  },
  {
   "cell_type": "code",
   "execution_count": 23,
   "metadata": {
    "id": "387672f6"
   },
   "outputs": [
    {
     "name": "stdout",
     "output_type": "stream",
     "text": [
      "File Not Found.\n"
     ]
    }
   ],
   "source": [
    "filename1 = 'cats.txt'\n",
    "\n",
    "with open(filename1, 'w') as file_object:\n",
    "    file_object.write(\"Maine Coon\\n\")\n",
    "    file_object.write(\"Egyptian\\n\")\n",
    "    file_object.write(\"Fluffy\\n\")\n",
    "    \n",
    "filename2 = 'dogs.txt'\n",
    "\n",
    "with open(filename2, 'w') as file_object:\n",
    "    file_object.write(\"Blue Tick Coon\\n\")\n",
    "    file_object.write(\"Golden Retriever\\n\")\n",
    "    file_object.write(\"Shihtzu\\n\")\n",
    "\n",
    "def why30questions(file_path):\n",
    "    try:\n",
    "        with open(file_path) as file:\n",
    "            print(file.read())\n",
    "    except FileNotFoundError:\n",
    "        print(\"File Not Found.\")\n",
    "    \n",
    "why30questions(\"dogs.txt\")"
   ]
  },
  {
   "cell_type": "markdown",
   "metadata": {
    "id": "e9d28546"
   },
   "source": [
    "## Question 29\n",
    "\n",
    "**Silent Cats and Dogs:** Modify your except block in Question 28 to fail silently if either file is missing."
   ]
  },
  {
   "cell_type": "code",
   "execution_count": 26,
   "metadata": {
    "id": "2b972722"
   },
   "outputs": [],
   "source": [
    "filename1 = 'cats.txt'\n",
    "\n",
    "with open(filename1, 'w') as file_object:\n",
    "    file_object.write(\"Maine Coon\\n\")\n",
    "    file_object.write(\"Egyptian\\n\")\n",
    "    file_object.write(\"Fluffy\\n\")\n",
    "    \n",
    "filename2 = 'dogs.txt'\n",
    "\n",
    "with open(filename2, 'w') as file_object:\n",
    "    file_object.write(\"Blue Tick Coon\\n\")\n",
    "    file_object.write(\"Golden Retriever\\n\")\n",
    "    file_object.write(\"Shihtzu\\n\")\n",
    "\n",
    "def why30questions(file_path):\n",
    "    try:\n",
    "        with open(file_path) as file:\n",
    "            print(file.read())\n",
    "    except FileNotFoundError:\n",
    "        pass\n",
    "    \n",
    "why30questions(\"dogs.txt\")"
   ]
  },
  {
   "cell_type": "markdown",
   "metadata": {
    "id": "241ffab1"
   },
   "source": [
    "## Question 30\n",
    "\n",
    "**Common Words:** Visit Project Gutenberg (<https://gutenberg.org/>) and find a few texts you’d like to analyze. Download the text files for these works, or copy the raw text from your browser into a text file on your computer. You can use the `count()` method to find out how many times a word or phrase appears in a string. For example, the following code counts the number of times 'row' appears in a string:"
   ]
  },
  {
   "cell_type": "code",
   "execution_count": 22,
   "metadata": {
    "id": "2a017ac9"
   },
   "outputs": [
    {
     "data": {
      "text/plain": [
       "2"
      ]
     },
     "execution_count": 22,
     "metadata": {},
     "output_type": "execute_result"
    }
   ],
   "source": [
    "line = \"Row, row, row your boat\"\n",
    "line.count('row')"
   ]
  },
  {
   "cell_type": "code",
   "execution_count": 23,
   "metadata": {
    "id": "41707165"
   },
   "outputs": [
    {
     "data": {
      "text/plain": [
       "3"
      ]
     },
     "execution_count": 23,
     "metadata": {},
     "output_type": "execute_result"
    }
   ],
   "source": [
    "line.lower().count('row')"
   ]
  },
  {
   "cell_type": "markdown",
   "metadata": {
    "id": "5652cc4d"
   },
   "source": [
    "Notice that converting the string to lowercase using lower() catches all appearances of the word you’re looking for, regardless of how it’s formatted.\n",
    "\n",
    "Write a program that reads the files you found at Project Gutenberg and determines how many times the word `the` appears in each text. This will be an approximation because it will also count words such as `then` and `there`. Try counting `the`, with a space in the string, and see how much lower your count is."
   ]
  },
  {
   "cell_type": "code",
   "execution_count": 40,
   "metadata": {
    "id": "55ab2af3"
   },
   "outputs": [
    {
     "name": "stdout",
     "output_type": "stream",
     "text": [
      "1626\n"
     ]
    }
   ],
   "source": [
    "file_path=\"declaration.txt\"\n",
    "\n",
    "with open(file_path) as file:\n",
    "    lines = file.readlines()\n",
    "\n",
    "\n",
    "for line in lines:\n",
    "    lines_new = line\n",
    "\n",
    "list1 = ' '.join(lines)\n",
    "print(list1.lower().count(\"the \"))"
   ]
  }
 ],
 "metadata": {
  "colab": {
   "provenance": []
  },
  "kernelspec": {
   "display_name": "Python 3",
   "language": "python",
   "name": "python3"
  },
  "language_info": {
   "codemirror_mode": {
    "name": "ipython",
    "version": 3
   },
   "file_extension": ".py",
   "mimetype": "text/x-python",
   "name": "python",
   "nbconvert_exporter": "python",
   "pygments_lexer": "ipython3",
   "version": "3.7.6"
  }
 },
 "nbformat": 4,
 "nbformat_minor": 5
}
