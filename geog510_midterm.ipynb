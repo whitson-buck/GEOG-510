{
  "cells": [
    {
      "cell_type": "markdown",
      "id": "bbb116c6",
      "metadata": {
        "id": "bbb116c6"
      },
      "source": [
        "# GEOG 422/510 Midterm Exam\n",
        "\n",
        "[![image](https://colab.research.google.com/assets/colab-badge.svg)](https://colab.research.google.com/drive/1XGSAhT_w54N5_hGLyacCsGqQ-DbtGhAf)\n"
      ]
    },
    {
      "cell_type": "code",
      "execution_count": null,
      "id": "b61f76a7",
      "metadata": {
        "id": "b61f76a7",
        "outputId": "1cf57d42-7da1-465e-a349-dafefe0de703"
      },
      "outputs": [
        {
          "name": "stdout",
          "output_type": "stream",
          "text": [
            "Submitted time: 2023-03-23 09:47:28.226340\n"
          ]
        }
      ],
      "source": [
        "from datetime import datetime\n",
        "\n",
        "now = datetime.now()\n",
        "print(f\"Submitted time: {now}\")"
      ]
    },
    {
      "cell_type": "markdown",
      "id": "8dd75ee2",
      "metadata": {
        "id": "8dd75ee2"
      },
      "source": [
        "## Question 1\n",
        "\n",
        "Create a new Python package and publish it on GitHub and PyPI. Do NOT use any packages that you created for previous assignments. The package must have GitHub Actions enabled, which allows you to automatically upload new releases from GitHub to PyPI. The package must also have the documentation website up and running. Complete the four questions below on this notebook and add the notebook to your GitHub repo for this new package. Add an `Open In Colab` badge to the notebook. Upon completion, you should have four hyperlinks to your GitHub repo, PyPI, documentation website, and the notebook. \n",
        "\n",
        "- GitHub: https://github.com/giswqs/geosdemo\n",
        "- PyPI: https://pypi.org/project/geosdemo\n",
        "- Docs: https://giswqs.github.io/geosdemo \n",
        "- Notebook: https://github.com/giswqs/geosdemo/blob/master/docs/labs/midterm.ipynb"
      ]
    },
    {
      "cell_type": "markdown",
      "id": "91d7a8e3",
      "metadata": {
        "id": "91d7a8e3"
      },
      "source": [
        "Your answers:\n",
        "- GitHub: \n",
        "- PyPI: \n",
        "- Docs: \n",
        "- Notebook:"
      ]
    },
    {
      "cell_type": "markdown",
      "id": "ca4033e0",
      "metadata": {
        "id": "ca4033e0"
      },
      "source": [
        "## Question 2\n",
        "**Ordinal numbers**: Ordinal numbers indicate their position in a list, such as 1st or 2nd. Most ordinal numbers end in *th*, except 1, 2, and 3. Write a program that repeatedly prompts a user for a number and prints out its corresponding ordinal number. Your program must be able to handle any integer, not just numbers between 1 and 10. If the user enters an invalid number, the program should prompt users to enter a valid number. When the user enters `quit`, the program stops. \n",
        "\n",
        "Sample output:\n",
        "\n",
        "```text\n",
        "Enter a number (enter 'quit' to exit):  1\n",
        "The ordinal number of 1 is: 1st\n",
        "Enter a number (enter 'quit' to exit):  2\n",
        "The ordinal number of 2 is: 2nd\n",
        "Enter a number (enter 'quit' to exit):  3\n",
        "The ordinal number of 3 is: 3rd\n",
        "Enter a number (enter 'quit' to exit):  5\n",
        "The ordinal number of 5 is: 5th\n",
        "Enter a number (enter 'quit' to exit):  11\n",
        "The ordinal number of 11 is: 11th\n",
        "Enter a number (enter 'quit' to exit):  12\n",
        "The ordinal number of 12 is: 12th\n",
        "Enter a number (enter 'quit' to exit):  13\n",
        "The ordinal number of 13 is: 13th\n",
        "Enter a number (enter 'quit' to exit):  21\n",
        "The ordinal number of 21 is: 21st\n",
        "Enter a number (enter 'quit' to exit):  22\n",
        "The ordinal number of 22 is: 22nd\n",
        "Enter a number (enter 'quit' to exit):  23\n",
        "The ordinal number of 23 is: 23rd\n",
        "Enter a number (enter 'quit' to exit):  99\n",
        "The ordinal number of 99 is: 99th\n",
        "Enter a number (enter 'quit' to exit):  101\n",
        "The ordinal number of 101 is: 101st\n",
        "Enter a number (enter 'quit' to exit):  hello\n",
        "hello is an invalid number. Please enter an integer number!\n",
        "Enter a number (enter 'quit' to exit):  haha\n",
        "haha is an invalid number. Please enter an integer number!\n",
        "Enter a number (enter 'quit' to exit):  quit\n",
        "```"
      ]
    },
    {
      "cell_type": "code",
      "execution_count": null,
      "id": "038854b7",
      "metadata": {
        "id": "038854b7",
        "outputId": "d8b08232-3080-411a-9288-0601f003ea57"
      },
      "outputs": [
        {
          "name": "stdout",
          "output_type": "stream",
          "text": [
            "Enter a number (type quit to exit): 11\n",
            "The ordinal number of 11 is: 11th\n",
            "Enter a number (type quit to exit): 10\n",
            "The ordinal number of 10 is: 10th\n",
            "Enter a number (type quit to exit): 14\n",
            "The ordinal number of 14 is: 14th\n",
            "Enter a number (type quit to exit): 15\n",
            "The ordinal number of 15 is: 15th\n",
            "Enter a number (type quit to exit): 20\n",
            "The ordinal number of 20 is: 20th\n",
            "Enter a number (type quit to exit): 21\n",
            "The ordinal number of 21 is: 21st\n",
            "Enter a number (type quit to exit): quit\n"
          ]
        }
      ],
      "source": [
        "while True:\n",
        "    userinput = input(\"Enter a number (type quit to exit): \")\n",
        "    if userinput == \"quit\":\n",
        "        break\n",
        "    elif int(userinput) in range(10,21):\n",
        "        print(f\"The ordinal number of {int(userinput)} is: {int(userinput)}th\")\n",
        "    elif int(userinput) % 10 == 1 & int(userinput) not in range(10,20):\n",
        "        print(f\"The ordinal number of {int(userinput)} is: {int(userinput)}st\")\n",
        "    elif int(userinput) % 10 == 2 & int(userinput) not in range(10,20):\n",
        "        print(f\"The ordinal number of {int(userinput)} is: {int(userinput)}nd\")\n",
        "    elif int(userinput) % 10 == 3 & int(userinput) not in range(10,20):\n",
        "        print(f\"The ordinal number of {int(userinput)} is: {int(userinput)}rd\")\n",
        "    elif int(userinput) % 10 == 4 & int(userinput) not in range(10,20):\n",
        "        print(f\"The ordinal number of {int(userinput)} is: {int(userinput)}th\")\n",
        "    elif int(userinput) % 10 == 5 & int(userinput) not in range(10,20):\n",
        "        print(f\"The ordinal number of {int(userinput)} is: {int(userinput)}th\")\n",
        "    elif int(userinput) % 10 == 6 & int(userinput) not in range(10,20):\n",
        "        print(f\"The ordinal number of {int(userinput)} is: {int(userinput)}th\")\n",
        "    elif int(userinput) % 10 == 7 & int(userinput) not in range(10,20):\n",
        "        print(f\"The ordinal number of {int(userinput)} is: {int(userinput)}th\")\n",
        "    elif int(userinput) % 10 == 8 & int(userinput) not in range(10,20):\n",
        "        print(f\"The ordinal number of {int(userinput)} is: {int(userinput)}th\")\n",
        "    elif int(userinput) % 10 == 9 & int(userinput) not in range(10,20):\n",
        "        print(f\"The ordinal number of {int(userinput)} is: {int(userinput)}th\")\n",
        "    elif int(userinput) % 10 == 0 & int(userinput) not in range(10,20):\n",
        "        print(f\"The ordinal number of {int(userinput)} is: {int(userinput)}th\")\n",
        "\n",
        "    "
      ]
    },
    {
      "cell_type": "markdown",
      "id": "bf6da293",
      "metadata": {
        "id": "bf6da293"
      },
      "source": [
        "## Question 3\n",
        "**Compute median:** Write a program that repeatedly prompts a user for numbers until the user enters `quit`. Once `quit` is entered, print out the median value of the numbers. If the user enters anything other than a valid number put out an appropriate message and ignore the number.\n",
        "\n",
        "Sample output:\n",
        "```text\n",
        "Enter a number (enter 'quit' to exit):  7\n",
        "Enter a number (enter 'quit' to exit):  8\n",
        "Enter a number (enter 'quit' to exit):  9\n",
        "Enter a number (enter 'quit' to exit):  haha\n",
        "Invalid input. Please enter a valid number.\n",
        "Enter a number (enter 'quit' to exit):  10\n",
        "Enter a number (enter 'quit' to exit):  quit\n",
        "The median value of the numbers [7.0, 8.0, 9.0, 10.0] is 8.5.\n",
        "```"
      ]
    },
    {
      "cell_type": "markdown",
      "id": "01dfd0f2",
      "metadata": {
        "id": "01dfd0f2"
      },
      "source": []
    },
    {
      "cell_type": "code",
      "execution_count": null,
      "id": "ca08fdb2",
      "metadata": {
        "id": "ca08fdb2",
        "outputId": "6c988d64-9dc5-463b-9db4-6b39ae62aa96"
      },
      "outputs": [
        {
          "name": "stdout",
          "output_type": "stream",
          "text": [
            "Enter a number: (type quit to exit) 1\n",
            "Enter a number: (type quit to exit) 2\n",
            "Enter a number: (type quit to exit) 3\n",
            "Enter a number: (type quit to exit) quit\n",
            "Try a number.\n"
          ]
        },
        {
          "ename": "StatisticsError",
          "evalue": "no median for empty data",
          "output_type": "error",
          "traceback": [
            "\u001b[1;31m---------------------------------------------------------------------------\u001b[0m",
            "\u001b[1;31mStatisticsError\u001b[0m                           Traceback (most recent call last)",
            "\u001b[1;32m<ipython-input-10-f7e3c4159e3c>\u001b[0m in \u001b[0;36m<module>\u001b[1;34m\u001b[0m\n\u001b[0;32m      9\u001b[0m         \u001b[0mprint\u001b[0m\u001b[1;33m(\u001b[0m\u001b[1;34m\"Try a number.\"\u001b[0m\u001b[1;33m)\u001b[0m\u001b[1;33m\u001b[0m\u001b[1;33m\u001b[0m\u001b[0m\n\u001b[0;32m     10\u001b[0m     \u001b[1;32mif\u001b[0m \u001b[0mprompt\u001b[0m \u001b[1;33m==\u001b[0m \u001b[1;34m\"quit\"\u001b[0m\u001b[1;33m:\u001b[0m\u001b[1;33m\u001b[0m\u001b[1;33m\u001b[0m\u001b[0m\n\u001b[1;32m---> 11\u001b[1;33m         \u001b[0mprint\u001b[0m\u001b[1;33m(\u001b[0m\u001b[0mstatistics\u001b[0m\u001b[1;33m.\u001b[0m\u001b[0mmedian\u001b[0m\u001b[1;33m(\u001b[0m\u001b[0mnew_array\u001b[0m\u001b[1;33m)\u001b[0m\u001b[1;33m)\u001b[0m\u001b[1;33m\u001b[0m\u001b[1;33m\u001b[0m\u001b[0m\n\u001b[0m\u001b[0;32m     12\u001b[0m         \u001b[0mx\u001b[0m \u001b[1;33m=\u001b[0m \u001b[1;32mFalse\u001b[0m\u001b[1;33m\u001b[0m\u001b[1;33m\u001b[0m\u001b[0m\n",
            "\u001b[1;32mC:\\Program Files\\ArcGIS\\Pro\\bin\\Python\\envs\\arcgispro-py3\\lib\\statistics.py\u001b[0m in \u001b[0;36mmedian\u001b[1;34m(data)\u001b[0m\n\u001b[0;32m    428\u001b[0m     \u001b[0mn\u001b[0m \u001b[1;33m=\u001b[0m \u001b[0mlen\u001b[0m\u001b[1;33m(\u001b[0m\u001b[0mdata\u001b[0m\u001b[1;33m)\u001b[0m\u001b[1;33m\u001b[0m\u001b[1;33m\u001b[0m\u001b[0m\n\u001b[0;32m    429\u001b[0m     \u001b[1;32mif\u001b[0m \u001b[0mn\u001b[0m \u001b[1;33m==\u001b[0m \u001b[1;36m0\u001b[0m\u001b[1;33m:\u001b[0m\u001b[1;33m\u001b[0m\u001b[1;33m\u001b[0m\u001b[0m\n\u001b[1;32m--> 430\u001b[1;33m         \u001b[1;32mraise\u001b[0m \u001b[0mStatisticsError\u001b[0m\u001b[1;33m(\u001b[0m\u001b[1;34m\"no median for empty data\"\u001b[0m\u001b[1;33m)\u001b[0m\u001b[1;33m\u001b[0m\u001b[1;33m\u001b[0m\u001b[0m\n\u001b[0m\u001b[0;32m    431\u001b[0m     \u001b[1;32mif\u001b[0m \u001b[0mn\u001b[0m \u001b[1;33m%\u001b[0m \u001b[1;36m2\u001b[0m \u001b[1;33m==\u001b[0m \u001b[1;36m1\u001b[0m\u001b[1;33m:\u001b[0m\u001b[1;33m\u001b[0m\u001b[1;33m\u001b[0m\u001b[0m\n\u001b[0;32m    432\u001b[0m         \u001b[1;32mreturn\u001b[0m \u001b[0mdata\u001b[0m\u001b[1;33m[\u001b[0m\u001b[0mn\u001b[0m \u001b[1;33m//\u001b[0m \u001b[1;36m2\u001b[0m\u001b[1;33m]\u001b[0m\u001b[1;33m\u001b[0m\u001b[1;33m\u001b[0m\u001b[0m\n",
            "\u001b[1;31mStatisticsError\u001b[0m: no median for empty data"
          ]
        }
      ],
      "source": [
        "import statistics\n",
        "x = True\n",
        "while x:\n",
        "    prompt = input(\"Enter a number: (type quit to exit) \")\n",
        "    new_array = []\n",
        "    try:\n",
        "        new_array.append(int(prompt))\n",
        "    except ValueError:\n",
        "        print(\"Try a number.\")\n",
        "    if prompt == \"quit\":\n",
        "        print(statistics.median(new_array))\n",
        "        x = False"
      ]
    },
    {
      "cell_type": "markdown",
      "id": "76c79c6b",
      "metadata": {
        "id": "76c79c6b"
      },
      "source": [
        "## Question 4\n",
        "**Count Words:** Based on the text file [A-Tale-of-Two-Cities.txt](https://raw.githubusercontent.com/giswqs/geosdemo/master/docs/python/data/A-Tale-of-Two-Cities.txt), write a program that repeatly prompts a user to enter a word or phrase and finds out how many times it appears in the text file. When a user enters `quit`, the program stops. \n",
        "\n",
        "Sample output:\n",
        "```text\n",
        "Enter a word or phrase to search for (enter 'quit' to exit):  the\n",
        "'the' appears 10694 times in the file.\n",
        "Enter a word or phrase to search for (enter 'quit' to exit):  season\n",
        "'season' appears 8 times in the file.\n",
        "Enter a word or phrase to search for (enter 'quit' to exit):  country\n",
        "'country' appears 42 times in the file.\n",
        "Enter a word or phrase to search for (enter 'quit' to exit):  hello\n",
        "'hello' appears 0 times in the file.\n",
        "Enter a word or phrase to search for (enter 'quit' to exit):  love\n",
        "'love' appears 77 times in the file.\n",
        "Enter a word or phrase to search for (enter 'quit' to exit):  quit\n",
        "```"
      ]
    },
    {
      "cell_type": "code",
      "execution_count": null,
      "id": "62e6c6e0",
      "metadata": {
        "id": "62e6c6e0",
        "outputId": "c4ec1e97-2630-4dda-dd78-fd857a7294fb"
      },
      "outputs": [
        {
          "name": "stdout",
          "output_type": "stream",
          "text": [
            "Enter a phrase to lookup: (type quit to exit) quit\n"
          ]
        }
      ],
      "source": [
        "file_path=\"C://Users/wbuck4/Downloads/A-Tale-of-Two-Cities.txt\"\n",
        "\n",
        "x = True\n",
        "while x:\n",
        "    prompt = input(\"Enter a phrase to lookup: (type quit to exit) \")\n",
        "    if prompt == \"quit\":\n",
        "        x = False\n",
        "    else:\n",
        "        with open(file_path, encoding='utf-8') as file:\n",
        "            lines = file.readlines()\n",
        "        \n",
        "        for line in lines:\n",
        "            lines_new = line\n",
        "\n",
        "        list1 = ' '.join(lines)\n",
        "        print(list1.lower().count(str(prompt)))"
      ]
    },
    {
      "cell_type": "code",
      "execution_count": null,
      "id": "d272a03d",
      "metadata": {
        "id": "d272a03d"
      },
      "outputs": [],
      "source": []
    },
    {
      "cell_type": "code",
      "execution_count": null,
      "id": "3d7a1821",
      "metadata": {
        "id": "3d7a1821"
      },
      "outputs": [],
      "source": []
    },
    {
      "cell_type": "markdown",
      "id": "037ae58f",
      "metadata": {
        "id": "037ae58f"
      },
      "source": [
        "## Question 5\n",
        "\n",
        "Write a program that counts the number of unique words in a text file. The program should repeatedly prompt a user to enter a file name and print out the number of unique words in the file. When a user enters `quit`, the program stops. If the input file does not exist, the program should print out an error message and prompt users to enter a valid filename.\n",
        "\n",
        "Some sample text files are available at:\n",
        "- [A-Tale-of-Two-Cities.txt](https://raw.githubusercontent.com/giswqs/geosdemo/master/docs/python/data/A-Tale-of-Two-Cities.txt)\n",
        "- [little_women.txt](https://raw.githubusercontent.com/giswqs/geosdemo/master/docs/python/data/little_women.txt)\n",
        "- [alice.txt](https://raw.githubusercontent.com/giswqs/geosdemo/master/docs/python/data/alice.txt)\n",
        "\n",
        "Sample output:\n",
        "```text\n",
        "Enter the filename:  A-Tale-of-Two-Cities.txt\n",
        "There are 19666 unique words in the file A-Tale-of-Two-Cities.txt\n",
        "Enter the filename:  little_women.txt\n",
        "There are 21050 unique words in the file little_women.txt\n",
        "Enter the filename:  alice.txt\n",
        "There are 6018 unique words in the file alice.txt\n",
        "Enter the filename:  hello_world.txt\n",
        "File 'hello_world.txt' not found. Please enter a valid filename.\n",
        "Enter the filename:  serious.txt\n",
        "File 'serious.txt' not found. Please enter a valid filename.\n",
        "Enter the filename:  I am done\n",
        "File 'I am done' not found. Please enter a valid filename.\n",
        "Enter the filename:  quit\n",
        "```"
      ]
    },
    {
      "cell_type": "code",
      "execution_count": null,
      "id": "e354391f",
      "metadata": {
        "id": "e354391f",
        "outputId": "8584d72d-948d-40c9-ddcd-0e5c9b2b1fb5"
      },
      "outputs": [
        {
          "name": "stdout",
          "output_type": "stream",
          "text": [
            "Enter a filename: (type quit to exit) A-Tale-of-Two-Cities.txt\n",
            "86\n",
            "Enter a filename: (type quit to exit) little-women.txt\n"
          ]
        },
        {
          "ename": "FileNotFoundError",
          "evalue": "[Errno 2] No such file or directory: 'little-women.txt'",
          "output_type": "error",
          "traceback": [
            "\u001b[1;31m---------------------------------------------------------------------------\u001b[0m",
            "\u001b[1;31mFileNotFoundError\u001b[0m                         Traceback (most recent call last)",
            "\u001b[1;32m<ipython-input-1-24edd6fbb857>\u001b[0m in \u001b[0;36m<module>\u001b[1;34m\u001b[0m\n\u001b[0;32m     10\u001b[0m         \u001b[0mx\u001b[0m \u001b[1;33m=\u001b[0m \u001b[1;32mFalse\u001b[0m\u001b[1;33m\u001b[0m\u001b[1;33m\u001b[0m\u001b[0m\n\u001b[0;32m     11\u001b[0m     \u001b[1;32melse\u001b[0m\u001b[1;33m:\u001b[0m\u001b[1;33m\u001b[0m\u001b[1;33m\u001b[0m\u001b[0m\n\u001b[1;32m---> 12\u001b[1;33m         \u001b[1;32mwith\u001b[0m \u001b[0mopen\u001b[0m\u001b[1;33m(\u001b[0m\u001b[0mstr\u001b[0m\u001b[1;33m(\u001b[0m\u001b[0mprompt\u001b[0m\u001b[1;33m)\u001b[0m\u001b[1;33m,\u001b[0m \u001b[0mencoding\u001b[0m\u001b[1;33m=\u001b[0m\u001b[1;34m'utf-8'\u001b[0m\u001b[1;33m)\u001b[0m \u001b[1;32mas\u001b[0m \u001b[0mfile\u001b[0m\u001b[1;33m:\u001b[0m\u001b[1;33m\u001b[0m\u001b[1;33m\u001b[0m\u001b[0m\n\u001b[0m\u001b[0;32m     13\u001b[0m             \u001b[0mlines\u001b[0m \u001b[1;33m=\u001b[0m \u001b[0mfile\u001b[0m\u001b[1;33m.\u001b[0m\u001b[0mreadlines\u001b[0m\u001b[1;33m(\u001b[0m\u001b[1;33m)\u001b[0m\u001b[1;33m\u001b[0m\u001b[1;33m\u001b[0m\u001b[0m\n\u001b[0;32m     14\u001b[0m \u001b[1;33m\u001b[0m\u001b[0m\n",
            "\u001b[1;31mFileNotFoundError\u001b[0m: [Errno 2] No such file or directory: 'little-women.txt'"
          ]
        }
      ],
      "source": [
        "import re\n",
        "file_path1=\"C://Users/wbuck4/Downloads/A-Tale-of-Two-Cities.txt\"\n",
        "file_path2=\"C://Users/wbuck4/Downloads/little-women.txt\"\n",
        "file_path3=\"C://Users/wbuck4/Downloads/alice.txt\"\n",
        "\n",
        "x = True\n",
        "while x:\n",
        "    prompt = input(\"Enter a filename: (type quit to exit) \")\n",
        "    if prompt == \"quit\":\n",
        "        x = False\n",
        "    else:\n",
        "        with open(str(prompt), encoding='utf-8') as file:\n",
        "            lines = file.readlines()\n",
        "        \n",
        "        for line in lines:\n",
        "            lines_new = line\n",
        "            \n",
        "        list1 = ' '.join(lines)\n",
        "        unique_words = set(list1)             # == set(['a', 'b', 'c'])\n",
        "        unique_word_count = len(unique_words)\n",
        "        \n",
        "        print(unique_word_count)\n",
        "        \n"
      ]
    },
    {
      "cell_type": "code",
      "execution_count": null,
      "id": "bb67d4e5",
      "metadata": {
        "id": "bb67d4e5"
      },
      "outputs": [],
      "source": []
    },
    {
      "cell_type": "code",
      "execution_count": null,
      "id": "eea7618a",
      "metadata": {
        "id": "eea7618a"
      },
      "outputs": [],
      "source": []
    }
  ],
  "metadata": {
    "colab": {
      "provenance": []
    },
    "kernelspec": {
      "display_name": "Python 3",
      "language": "python",
      "name": "python3"
    },
    "language_info": {
      "codemirror_mode": {
        "name": "ipython",
        "version": 3
      },
      "file_extension": ".py",
      "mimetype": "text/x-python",
      "name": "python",
      "nbconvert_exporter": "python",
      "pygments_lexer": "ipython3",
      "version": "3.9.11"
    }
  },
  "nbformat": 4,
  "nbformat_minor": 5
}
